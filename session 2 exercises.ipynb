{
 "cells": [
  {
   "cell_type": "markdown",
   "metadata": {
    "colab_type": "text",
    "id": "4zGwksvzy308"
   },
   "source": [
    "#### Q.2- Given the variables:\n",
    "<br>\n",
    "planet = \"Earth\"\n",
    "<br>\n",
    "diameter = 12742\n",
    "\n",
    " print the following string: \n",
    " <br>\n",
    " <font color='red'>The diameter of Earth is 12742 kilometers.</font>"
   ]
  },
  {
   "cell_type": "code",
   "execution_count": 1,
   "metadata": {
    "colab": {},
    "colab_type": "code",
    "id": "ZM8f9qdey-Rc"
   },
   "outputs": [],
   "source": [
    "planet = \"Earth\"\n",
    "diameter = 12742\n",
    "# put your code here\n"
   ]
  },
  {
   "cell_type": "markdown",
   "metadata": {
    "colab_type": "text",
    "id": "RFUxR5YDzme7"
   },
   "source": [
    "#### Q.5- Creat a Loop that counts the number of times the word \"dog\" occurs in a string. Again ignore edge cases.\n"
   ]
  },
  {
   "cell_type": "code",
   "execution_count": 2,
   "metadata": {
    "colab": {
     "base_uri": "https://localhost:8080/",
     "height": 34
    },
    "colab_type": "code",
    "id": "D4IOOjujzocG",
    "outputId": "45907f7f-5e44-4c5c-81dc-d09ce03113b1",
    "scrolled": true
   },
   "outputs": [],
   "source": [
    "\n",
    "countDog = ('This dog runs faster than the other dog dude!')\n"
   ]
  },
  {
   "cell_type": "markdown",
   "metadata": {
    "colab_type": "text",
    "id": "F4LAg6Qu-mTS"
   },
   "source": [
    "#### Q.8- write afinction to check whether the string is a palindrome or not(True/False). (A palindrome is a string that reads the same forwards and backwards.)\n",
    "<br>\n",
    "<font color='red'> note : you have to ignore the character case this means the word Deleveled is palindrome.</font>\n",
    "\n",
    "\n"
   ]
  },
  {
   "cell_type": "code",
   "execution_count": 3,
   "metadata": {
    "colab": {
     "base_uri": "https://localhost:8080/",
     "height": 34
    },
    "colab_type": "code",
    "id": "lp231Z8yAONj",
    "outputId": "98b6e3db-2ab3-40bc-9784-46a91f5e4db0"
   },
   "outputs": [
    {
     "name": "stdout",
     "output_type": "stream",
     "text": [
      "None\n"
     ]
    }
   ],
   "source": [
    "def is_palindrome(word):\n",
    "    # put your code here\n",
    "    return None\n",
    "    \n",
    "print(is_palindrome('Deleveled'))"
   ]
  },
  {
   "cell_type": "markdown",
   "metadata": {
    "colab_type": "text",
    "id": "hIUEB0OFAfHv"
   },
   "source": [
    "#### Q.9-Generate a random number between 1 and 9 (including 1 and 9). Ask the user to guess the number, then tell them whether they guessed too low, too high, or exactly right.\n",
    "<br>\n",
    "\n",
    "\n",
    "*   Keep the game going until the user types “exit”\n",
    "*   Keep track of how many guesses the user has taken, and when the game ends, print this out.\n",
    "<br>\n",
    "<font color='red'> note : this like hangman game.</font>\n",
    "\n"
   ]
  },
  {
   "cell_type": "code",
   "execution_count": 4,
   "metadata": {
    "colab": {},
    "colab_type": "code",
    "id": "fvSBNk7d38cY"
   },
   "outputs": [],
   "source": [
    "# put your code here\n",
    "\n"
   ]
  },
  {
   "cell_type": "markdown",
   "metadata": {},
   "source": [
    "#### Q.-10: Create a for loop that prompts the user for a hobby 3 times, then appends each one to hobbies."
   ]
  },
  {
   "cell_type": "code",
   "execution_count": null,
   "metadata": {},
   "outputs": [],
   "source": []
  },
  {
   "cell_type": "markdown",
   "metadata": {},
   "source": [
    "####  Q 11: Find the sum of the series 2 +22 + 222 + 2222 + .. n terms\n",
    "Given:\n",
    "\n",
    "number_of_terms = 5\n",
    "\n",
    "So series will become 2 + 22 + 222 + 2222 + 22222"
   ]
  },
  {
   "cell_type": "code",
   "execution_count": null,
   "metadata": {},
   "outputs": [],
   "source": [
    "\n"
   ]
  },
  {
   "cell_type": "markdown",
   "metadata": {},
   "source": [
    "#### Q 12: Use a loop to display elements from a given list which are present at even positions\n",
    "Given:\n",
    "\n",
    "my_list = [10, 20, 30, 40, 50, 60, 70, 80, 90, 100]"
   ]
  },
  {
   "cell_type": "code",
   "execution_count": null,
   "metadata": {},
   "outputs": [],
   "source": []
  },
  {
   "cell_type": "markdown",
   "metadata": {},
   "source": [
    "#### Q.13-  Given a number count the total number of digits in a number"
   ]
  },
  {
   "cell_type": "code",
   "execution_count": null,
   "metadata": {},
   "outputs": [],
   "source": []
  },
  {
   "cell_type": "markdown",
   "metadata": {},
   "source": [
    " #### Q.15- : Print multiplication table of given number"
   ]
  },
  {
   "cell_type": "code",
   "execution_count": null,
   "metadata": {},
   "outputs": [],
   "source": []
  },
  {
   "cell_type": "markdown",
   "metadata": {},
   "source": [
    "#### Q.16- Accept number from user and calculate the sum of all number between 1 and given number\n",
    "\n"
   ]
  },
  {
   "cell_type": "code",
   "execution_count": null,
   "metadata": {},
   "outputs": [],
   "source": []
  },
  {
   "cell_type": "markdown",
   "metadata": {},
   "source": [
    "#### Q.18- print the following string to be (['Today', 'is', 'a good day.'])\n",
    "\n",
    "temp_str = \"Today is a good day.\"\n"
   ]
  },
  {
   "cell_type": "code",
   "execution_count": null,
   "metadata": {},
   "outputs": [],
   "source": []
  },
  {
   "cell_type": "markdown",
   "metadata": {},
   "source": [
    "### Q.19 Write a program that asks the user to enter a word and prints out whether that word contains\n",
    "any vowels."
   ]
  },
  {
   "cell_type": "code",
   "execution_count": null,
   "metadata": {},
   "outputs": [],
   "source": []
  },
  {
   "cell_type": "markdown",
   "metadata": {},
   "source": [
    "### Q.20 extract the current lat,lng from the received nmea packet from the gps\n",
    "”$GPGGA,172814.0,3137.36664,N, 00212.21149,E,2,6,1.2,18.893,M,-25.669,M,2.0,0031*4F” the\n",
    "format for NMEA coordinates is (d)ddmm.mmmm write a code to convert it to decimal degrees\n",
    "Lat : 31 37.36664,N becomes 31 degrees and 37.26664 seconds = 31 + 37.36664/60 = 31.6227773\n",
    "Lon : 002 12.21149,E becomes 2 degrees and 12.21149 seconds = 2 + 12.21149/60 = 2.20352483\n",
    "note if the lat direction S(south) you have to multiply the lat by -1 and the same with lon if it’s\n",
    "dirction W(West) you have to multiply the lon by -1"
   ]
  },
  {
   "cell_type": "code",
   "execution_count": null,
   "metadata": {},
   "outputs": [],
   "source": []
  },
  {
   "cell_type": "markdown",
   "metadata": {},
   "source": [
    "### Q.21 A simple way of encrypting a message is to rearrange its characters. One way to rearrange\n",
    "the characters is to pick out the characters at even indices, put them first in the encrypted string,\n",
    "and follow them by the odd characters. For example, the string message would be encrypted as\n",
    "msaeesg because the even characters are m, s, a, e (at indices 0, 2, 4, and 6) and the odd characters\n",
    "are e, s, g (at indices 1, 3, and 5). (a) Write a program that asks the user for a string and uses this\n",
    "method to encrypt the string. (b) Write a program that decrypts a string that was encrypted with\n",
    "this method."
   ]
  },
  {
   "cell_type": "code",
   "execution_count": null,
   "metadata": {},
   "outputs": [],
   "source": []
  },
  {
   "cell_type": "markdown",
   "metadata": {},
   "source": [
    "### Q.22 Write a program that asks the user to enter a string. The program should then print the\n",
    "following: (a) The total number of characters in the string (b) The string repeated 10 times (c)\n",
    "The first character of the string (remember that string indices start at 0) (d) The first three\n",
    "characters of the string (e) The last three characters of the string (f) The string backwards (g)\n",
    "The seventh character of the string if the string is long enough and a message otherwise (h) The\n",
    "string with its first and last characters removed (i) The string in all caps (j) The string with every\n",
    "a replaced with an e"
   ]
  },
  {
   "cell_type": "code",
   "execution_count": null,
   "metadata": {},
   "outputs": [],
   "source": []
  },
  {
   "cell_type": "markdown",
   "metadata": {},
   "source": [
    "### Q.23 At a certain school, student email addresses end with @student.college.edu , while pro- fessor\n",
    "email addresses end with @prof.college.edu . Write a program that first asks the user how many\n",
    "email addresses they will be entering, and then has the user enter those ad- dresses. After all the\n",
    "email addresses are entered, the program should print out a message indicating either that all the\n",
    "addresses are student addresses or that there were some profes-sor addresses entered."
   ]
  },
  {
   "cell_type": "code",
   "execution_count": null,
   "metadata": {},
   "outputs": [],
   "source": []
  },
  {
   "cell_type": "markdown",
   "metadata": {},
   "source": [
    "### Game 21 \n",
    "\n",
    "    Consider some game where each participant draws a series of random integers\n",
    "    evenly distributed from 0 and 10, with the aim of getting the sum as close as pos-\n",
    "    sible to 21, but not larger than 21. You are out of the game if the sum passes 21.\n",
    "    After each draw, you are told the number and your total sum, and are asked whether\n",
    "    you want another draw or not. The one coming closest to 21 is the winner."
   ]
  },
  {
   "cell_type": "code",
   "execution_count": null,
   "metadata": {},
   "outputs": [],
   "source": []
  }
 ],
 "metadata": {
  "colab": {
   "collapsed_sections": [],
   "name": "anas_practice.ipynb",
   "provenance": [],
   "version": "0.3.2"
  },
  "kernelspec": {
   "display_name": "Python 3",
   "language": "python",
   "name": "python3"
  },
  "language_info": {
   "codemirror_mode": {
    "name": "ipython",
    "version": 3
   },
   "file_extension": ".py",
   "mimetype": "text/x-python",
   "name": "python",
   "nbconvert_exporter": "python",
   "pygments_lexer": "ipython3",
   "version": "3.8.10"
  }
 },
 "nbformat": 4,
 "nbformat_minor": 1
}
