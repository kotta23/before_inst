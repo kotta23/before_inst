{
 "cells": [
  {
   "cell_type": "markdown",
   "metadata": {},
   "source": [
    "# Condition \n",
    "\n",
    "\n",
    "#### if statement\n",
    "    if condition: \n",
    "        statements\n",
    "    \n",
    "#### Short Hand if statement\n",
    "    if condition: statement\n",
    "\n",
    "#### Short Hand if-else statement\n",
    "    statement_when_True if condition else statement_when_False\n",
    "\n",
    "#### if else statment\n",
    "    if (condition): Executes this block if condition is true\n",
    "    else: Executes this block if condition is false\n",
    "\n",
    "#### if elif else statment \n",
    "    if (condition): statement\n",
    "    elif (condition):statement\n",
    "    else: statement\n",
    "    \n",
    "    \n",
    "#### try except block\n",
    "    the code will go in the try block first if it's generat an error it will go to the except block\n",
    "    if not the try block will be executed and the except block will be skipped\n",
    "    try:\n",
    "        statment\n",
    "    except:\n",
    "        statment"
   ]
  },
  {
   "cell_type": "code",
   "execution_count": null,
   "metadata": {},
   "outputs": [],
   "source": [
    "#if statement\n",
    "i = 10\n",
    "if (i > 15): \n",
    "       print (\"10 is less than 15\") \n",
    "print (\"I am Not in if\") \n"
   ]
  },
  {
   "cell_type": "code",
   "execution_count": null,
   "metadata": {},
   "outputs": [],
   "source": [
    "# Short Hand if statement\n",
    "i = 10\n",
    "if i < 15: print(\"i is less than 15\") \n"
   ]
  },
  {
   "cell_type": "code",
   "execution_count": null,
   "metadata": {},
   "outputs": [],
   "source": [
    "# Short Hand if-else statement\n",
    "i = 10\n",
    "print(True) if i < 15 else print(False) \n",
    "\n"
   ]
  },
  {
   "cell_type": "code",
   "execution_count": null,
   "metadata": {},
   "outputs": [],
   "source": [
    "#if else statment\n",
    "i = 20; \n",
    "if (i < 15): \n",
    "    print (\"i is smaller than 15\") \n",
    "    print (\"i'm in if Block\") \n",
    "else: \n",
    "    print (\"i is greater than 15\") \n",
    "    print (\"i'm in else Block\") \n",
    "print (\"i'm not in if and not in else Block\")\n"
   ]
  },
  {
   "cell_type": "code",
   "execution_count": null,
   "metadata": {},
   "outputs": [],
   "source": [
    "#if elif else statment \n",
    "i = 20\n",
    "if (i == 10): \n",
    "    print (\"i is 10\") \n",
    "elif (i == 15): \n",
    "    print (\"i is 15\") \n",
    "elif (i == 20): \n",
    "    print (\"i is 20\") \n",
    "else: \n",
    "    print (\"i is not present\") \n",
    "    "
   ]
  },
  {
   "cell_type": "code",
   "execution_count": null,
   "metadata": {},
   "outputs": [],
   "source": [
    "astr = 'Hello Bob'\n",
    "try:\n",
    "    istr = int(astr)\n",
    "except:\n",
    "    istr = -1\n"
   ]
  },
  {
   "cell_type": "code",
   "execution_count": null,
   "metadata": {},
   "outputs": [],
   "source": [
    "astr = '123'\n",
    "try:\n",
    "    istr = int(astr)\n",
    "except:\n",
    "    istr = -1\n",
    "\n",
    "print ( istr)"
   ]
  },
  {
   "cell_type": "markdown",
   "metadata": {},
   "source": []
  },
  {
   "cell_type": "markdown",
   "metadata": {},
   "source": [
    "##       Loops\n",
    "\n",
    "### For\n",
    "\n",
    "For in loops\n",
    "\n",
    "    for var in iterable:\n",
    "         statements\n",
    "\n",
    "For range() function\n",
    "\n",
    "    for i in range(start, end , step):\n",
    "        statments\n",
    "        \n",
    "For enumerate() function ##\n",
    "\n",
    "    for key , value in enumrate:( ):\n",
    "        statments  \n",
    "        \n",
    "For zip() function  ## is used to combine 2 similar containers(list-list or dict-dict)\n",
    "    \n",
    "    for i, j in zip( list 1, list 2):\n",
    "            statments  \n",
    "\n",
    "\n",
    "for more loop techniques visit https://www.geeksforgeeks.org/looping-techniques-python/?ref=lbp\n",
    "\n",
    "\n",
    "### While\n",
    "\n",
    "while loop\n",
    "\n",
    "    while expression:\n",
    "        statement(s)\n"
   ]
  },
  {
   "cell_type": "code",
   "execution_count": null,
   "metadata": {},
   "outputs": [],
   "source": [
    "# Iterating over a list  \n",
    "print(\"List Iteration\")  \n",
    "l = [\"hello\", \"world\", \"!\"]  \n",
    "for i in l:  \n",
    "    print(i)   "
   ]
  },
  {
   "cell_type": "code",
   "execution_count": null,
   "metadata": {},
   "outputs": [],
   "source": [
    "# Iterating over a String  \n",
    "print(\"\\nString Iteration\")      \n",
    "s = \"hello\"\n",
    "for i in s :  \n",
    "    print(i)  "
   ]
  },
  {
   "cell_type": "code",
   "execution_count": null,
   "metadata": {},
   "outputs": [],
   "source": [
    "# Iterating over dictionary  \n",
    "print(\"\\nDictionary Iteration\")     \n",
    "d = dict()   \n",
    "d['xyz'] = 123\n",
    "d['abc'] = 345\n",
    "for i in d :  \n",
    "    print(i , d[i]) "
   ]
  },
  {
   "cell_type": "code",
   "execution_count": null,
   "metadata": {},
   "outputs": [],
   "source": [
    "# printing a number \n",
    "for i in range(10): \n",
    "    print(i, end=\" \") \n",
    "print() "
   ]
  },
  {
   "cell_type": "code",
   "execution_count": null,
   "metadata": {},
   "outputs": [],
   "source": [
    "# using range for iteration \n",
    "l = [10, 20, 30, 40] \n",
    "for i in range(len(l)): \n",
    "    print(l[i], end=\" \") \n",
    "print() "
   ]
  },
  {
   "cell_type": "code",
   "execution_count": null,
   "metadata": {},
   "outputs": [],
   "source": [
    "# performing sum of first 10 numbers \n",
    "sum = 0\n",
    "for i in range(1, 10): \n",
    "    sum = sum + i \n",
    "print(\"Sum of first 10 numbers :\", sum) "
   ]
  },
  {
   "cell_type": "code",
   "execution_count": null,
   "metadata": {},
   "outputs": [],
   "source": [
    "for key, value in enumerate(['The', 'Big', 'Bang', 'Theory']): \n",
    "    print(key, value) "
   ]
  },
  {
   "cell_type": "code",
   "execution_count": null,
   "metadata": {},
   "outputs": [],
   "source": [
    "\n",
    "# initializing list \n",
    "questions = ['name', 'colour', 'shape'] \n",
    "answers = ['apple', 'red', 'a circle'] \n",
    "  \n",
    "# using zip() to combine two containers  \n",
    "# and print values \n",
    "for question, answer in zip(questions, answers): \n",
    "    print('What is your {0}?  I am {1}.'.format(question, answer))"
   ]
  },
  {
   "cell_type": "code",
   "execution_count": null,
   "metadata": {},
   "outputs": [],
   "source": [
    "# Single statement while block  \n",
    "count = 0\n",
    "while (count < 5): count += 1; print(\"Hello world\") \n",
    "  "
   ]
  },
  {
   "cell_type": "code",
   "execution_count": null,
   "metadata": {},
   "outputs": [],
   "source": [
    "a = [1, 2, 3, 4] \n",
    "while a: \n",
    "    print(a.pop()) \n",
    "    "
   ]
  },
  {
   "cell_type": "markdown",
   "metadata": {},
   "source": [
    "# Statments\n",
    "\n",
    "### Break\n",
    "\n",
    "    break\n",
    "\n",
    "### Continue\n",
    "\n",
    "    continue\n",
    "\n",
    "### pass\n",
    "\n",
    "    pass\n",
    "    "
   ]
  },
  {
   "cell_type": "code",
   "execution_count": 10,
   "metadata": {},
   "outputs": [
    {
     "name": "stdout",
     "output_type": "stream",
     "text": [
      "g\n",
      "e\n",
      "Out of for loop\n"
     ]
    }
   ],
   "source": [
    "# demonstrate break statement \n",
    "  \n",
    "s = 'geeksforgeeks'\n",
    "# Using for loop \n",
    "for letter in s: \n",
    "  \n",
    "    print(letter) \n",
    "    # break the loop as soon it sees 'e' \n",
    "    # or 's' \n",
    "    if letter == 'e' or letter == 's': \n",
    "        break\n",
    "  \n",
    "print(\"Out of for loop\") "
   ]
  },
  {
   "cell_type": "code",
   "execution_count": null,
   "metadata": {},
   "outputs": [],
   "source": [
    "# loop from 1 to 10 \n",
    "for i in range(1, 11): \n",
    "  \n",
    "    # If i is equals to 6,   \n",
    "    # continue to next iteration   \n",
    "    # without printing  \n",
    "    if i == 6: \n",
    "        continue\n",
    "    else: \n",
    "        # otherwise print the value \n",
    "        # of i \n",
    "        print(i, end = \" \")"
   ]
  },
  {
   "cell_type": "code",
   "execution_count": null,
   "metadata": {},
   "outputs": [],
   "source": [
    "li =['a', 'b', 'c', 'd'] \n",
    "  \n",
    "for i in li: \n",
    "    if(i =='a'): \n",
    "        pass \n",
    "    else: \n",
    "        print(i)\n",
    "        "
   ]
  },
  {
   "cell_type": "markdown",
   "metadata": {},
   "source": [
    "# String\n",
    "\n",
    "## Creating a String\n",
    "\n",
    "##### with single Quotes \n",
    "    String1 = 'Welcome to the Geeks World'\n",
    "    \n",
    "##### with double Quotes \n",
    "    String1 = \"I'm a Geek\"\n",
    "\n",
    "##### with triple Quotes \n",
    "    String1 = '''I'm a Geek and I live in a world of \"Geeks\"'''\n",
    "\n",
    "##### Quotes allows multiple lines \n",
    "    String1 = '''Geeks \n",
    "                For \n",
    "                Life'''\n",
    "                \n",
    "                \n",
    "## Accessing characters\n",
    "\n",
    "|a|f|w|g|t|y|u|i|\n",
    "| :- | -: | -: | :- | -: | -: | :- | -: | \n",
    "|0|1|2|3|4|5|6|7\n",
    "|-8|-7|-6|-5|-4|-3|-2|-1\n",
    "\n",
    "\n",
    "String[index]\n",
    "\n",
    "## String Slicing\n",
    "\n",
    "String[start:end:step]\n",
    "\n",
    "## String common functions \n",
    "\n",
    "|OPERATOR|DESCRIPTION|SYNTAX|\n",
    "| :- | -: | -: | \n",
    "| s.startswith(prefix,start,end) |Returns True if a string starts with the given prefix otherwise returns False|s.startswith('an')|\n",
    "| s.endswith(suffix,start,end) |Returns True if a string ends with the given suffix otherwise returns False|s.endswith('on')|\n",
    "| s.strip(chars) |It return a copy of the string with both leading and trailing characters removed|s.strip(' low')|\n",
    "| s.count(sub,start,end) |Return the number of (non-overlapping) occurrences of substring sub in string|s.count(\"he\")|\n",
    "| s.partition(sep)→ (before,sep,after) |splits the string at the first occurrence of the separator and returns a tuple.|s.partition('is')|\n",
    "| s.index(chr,start,end]) |Returns the position of the first occurrence of substring in a string|pos = ch.index(ch1,2)|\n",
    "| s.find(sub[,start[,end]]) |Return the lowest index of a string.|s.find('hi') |\n",
    "| s.is...() | tests on chars categories | s.isalpha() |\n",
    "| s.upper() |lower case letters converted to upper case.|s.upper()|\n",
    "| s.lower() |upper case letters converted to lower case.|s.lower()|\n",
    "| s.swapcase() |Converts lower case letters to upper case and vice versa.\n",
    "|s.swapcase() |\n",
    "| s.casefold() |Returns the string in lowercase which can be used for caseless comparisons.|s.casefold() |\n",
    "| s.capitalize() |Return a word with its first character capitalized.|s.capitalize()|\n",
    "| s.encode(encoding) |Encodes the string into any encoding supported by Python.Default encoding is utf-8.||\n",
    "| s.split([sep]) |Return a list of the words of the string,If the optional second argument sep is absent or None|s.split()|\n",
    "| s.join(seq) |Concatenate a list or tuple of words with intervening occurrences of sep.|s.join(list1)|\n"
   ]
  },
  {
   "cell_type": "code",
   "execution_count": null,
   "metadata": {},
   "outputs": [],
   "source": [
    "# characters of String \n",
    "  \n",
    "String1 = \"helloworld\"\n",
    "print(String1[0]) "
   ]
  },
  {
   "cell_type": "code",
   "execution_count": null,
   "metadata": {},
   "outputs": [],
   "source": [
    "# you can't add string to int/float\n",
    "print(\"hello\"+2) # error"
   ]
  },
  {
   "cell_type": "code",
   "execution_count": null,
   "metadata": {},
   "outputs": [],
   "source": [
    "# demonstrate String slicing \n",
    "  \n",
    "# Creating a String \n",
    "String1 = \"welcometopython\"\n",
    "print(String1[3:12]) "
   ]
  },
  {
   "cell_type": "code",
   "execution_count": null,
   "metadata": {},
   "outputs": [],
   "source": [
    "# .endswith() function\n",
    " \n",
    "text = \"geeks for geeks.\"\n",
    " \n",
    "# returns False\n",
    "result = text.endswith('for geeks')\n",
    "print (result)"
   ]
  },
  {
   "cell_type": "code",
   "execution_count": null,
   "metadata": {},
   "outputs": [],
   "source": [
    "# .startsswith() function \n",
    "   \n",
    "text = \"geeks for geeks.\"\n",
    "   \n",
    "# returns False \n",
    "result = text.startswith('for geeks') \n",
    "print (result) "
   ]
  },
  {
   "cell_type": "code",
   "execution_count": null,
   "metadata": {},
   "outputs": [],
   "source": [
    "string = \"\"\"    geeks for geeks    \"\"\" \n",
    "  \n",
    "# prints the string without stripping \n",
    "print(string)  \n",
    "  \n",
    "# prints the string by removing leading and trailing whitespaces \n",
    "print(string.strip())    \n",
    "  \n",
    "# prints the string by removing geeks \n",
    "print(string.strip(' geeks')) "
   ]
  },
  {
   "cell_type": "code",
   "execution_count": null,
   "metadata": {},
   "outputs": [],
   "source": [
    "# count() method without optional parameters  \n",
    "  \n",
    "# string in which occurrence will be checked \n",
    "string = \"geeks for geeks\" \n",
    "  \n",
    "# counts the number of times substring occurs in  \n",
    "# the given string and returns an integer \n",
    "print(string.count(\"geeks\")) "
   ]
  },
  {
   "cell_type": "code",
   "execution_count": null,
   "metadata": {},
   "outputs": [],
   "source": [
    "string = \"pawan is a good\"\n",
    "  \n",
    "# 'is' separator is found \n",
    "print(string.partition('is ')) \n",
    "  \n",
    "# 'not' separator is not found \n",
    "print(string.partition('bad ')) \n",
    "  \n",
    "string = \"pawan is a good, isn't it\"\n",
    "  \n",
    "# splits at first occurrence of 'is' \n",
    "print(string.partition('is'))"
   ]
  },
  {
   "cell_type": "code",
   "execution_count": null,
   "metadata": {},
   "outputs": [],
   "source": [
    "# initializing target string  \n",
    "ch = \"geeksforgeeks\"\n",
    "  \n",
    "# initializing argument string  \n",
    "ch1 = \"geeks\"\n",
    "  \n",
    "# using index() to find position of \"geeks\" \n",
    "# starting from 2nd index  \n",
    "# prints 8 \n",
    "pos = ch.index(ch1,2) \n",
    "  \n",
    "print (\"The first position of geeks after 2nd index : \",end=\"\") \n",
    "print (pos) "
   ]
  },
  {
   "cell_type": "code",
   "execution_count": null,
   "metadata": {},
   "outputs": [],
   "source": [
    "#find word\n",
    "word = 'geeks for geeks'\n",
    "  \n",
    "# returns first occurrence of Substring \n",
    "result = word.find('geeks') \n",
    "print (\"Substring 'geeks' found at index:\", result ) \n"
   ]
  },
  {
   "cell_type": "code",
   "execution_count": null,
   "metadata": {},
   "outputs": [],
   "source": [
    "# working of upper() function \n",
    "text = 'geeKs For geEkS'\n",
    "  \n",
    "print(text)   \n",
    "# upper() function to convert  \n",
    "# string to upper_case \n",
    "print(text.upper()) \n"
   ]
  },
  {
   "cell_type": "code",
   "execution_count": null,
   "metadata": {},
   "outputs": [],
   "source": [
    "# working of upper() function \n",
    "text = 'geeKs For geEkS'\n",
    "  \n",
    "print(text)   \n",
    "# upper() function to convert  \n",
    "# string to upper_case \n",
    "print(text.lower()) "
   ]
  },
  {
   "cell_type": "code",
   "execution_count": null,
   "metadata": {},
   "outputs": [],
   "source": [
    "# swapcase() method   \n",
    "  \n",
    "string = \"gEEksFORgeeks\"\n",
    "  \n",
    "# prints after swappong all cases \n",
    "print(string.swapcase())    \n",
    "  \n",
    "string = \"striver\" \n",
    "print(string.swapcase())"
   ]
  },
  {
   "cell_type": "code",
   "execution_count": null,
   "metadata": {},
   "outputs": [],
   "source": [
    "# Python program to convert string in lower case \n",
    "string =\" GEEKSFORGEEKS\"\n",
    "  \n",
    "# print lowercase string \n",
    "print(\" lowercase string: \",string.casefold()) "
   ]
  },
  {
   "cell_type": "code",
   "execution_count": null,
   "metadata": {},
   "outputs": [],
   "source": [
    "# capitalize() first letter of  \n",
    "# string. \n",
    "name = \"geeks for geeks\"\n",
    "  \n",
    "print(name.capitalize())  "
   ]
  },
  {
   "cell_type": "code",
   "execution_count": null,
   "metadata": {},
   "outputs": [],
   "source": [
    "import base64\n",
    "\n",
    "# all encodings available \n",
    "  \n",
    "from encodings.aliases import aliases \n",
    "  \n",
    "# Printing list available \n",
    "print(\"The available encodings are : \") \n",
    "print(aliases.keys()) \n",
    "\n",
    "# Python code to demonstrate \n",
    "# encode() \n",
    "  \n",
    "# initializing string  \n",
    "str = \"geeksforgeeks\"\n",
    "  \n",
    "#printing the encoded string \n",
    "print (\"The encoded string in base64 format is : \", )\n",
    "print( base64.b64encode(str.encode('ascii')))"
   ]
  },
  {
   "cell_type": "code",
   "execution_count": null,
   "metadata": {},
   "outputs": [],
   "source": [
    "word = 'geeks:for:geeks'\n",
    "  \n",
    "# Splitting at ':' \n",
    "print(word.split(':')) \n",
    "  \n",
    "word = 'CatBatSatFatOr'\n",
    "  \n",
    "# Splitting at 3 \n",
    "print([word[i:i+3] for i in range(0, len(word), 3)]) "
   ]
  },
  {
   "cell_type": "code",
   "execution_count": null,
   "metadata": {},
   "outputs": [],
   "source": [
    "# list join \n",
    "list1 = ['1','2','3','4']  \n",
    "  \n",
    "s = \"-\"\n",
    "  \n",
    "# joins elements of list1 by '-'  \n",
    "print( s.join(list1) )"
   ]
  }
 ],
 "metadata": {
  "kernelspec": {
   "display_name": "Python 3",
   "language": "python",
   "name": "python3"
  },
  "language_info": {
   "codemirror_mode": {
    "name": "ipython",
    "version": 3
   },
   "file_extension": ".py",
   "mimetype": "text/x-python",
   "name": "python",
   "nbconvert_exporter": "python",
   "pygments_lexer": "ipython3",
   "version": "3.8.10"
  }
 },
 "nbformat": 4,
 "nbformat_minor": 4
}
