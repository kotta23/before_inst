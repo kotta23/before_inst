{
 "cells": [
  {
   "cell_type": "markdown",
   "metadata": {},
   "source": [
    "# Q-1 \n",
    "Write a program in Python that asks the user to enter their name and two numbers a and b and display the following \n",
    "\n",
    "1-their name with a welcome message!\n",
    "\n",
    "2- their sum: a + b.\n",
    "\n",
    "3-their maximum\n",
    "\n",
    "\n",
    "4-display  if these numbers is even or odd"
   ]
  },
  {
   "cell_type": "code",
   "execution_count": null,
   "metadata": {},
   "outputs": [],
   "source": []
  },
  {
   "cell_type": "markdown",
   "metadata": {},
   "source": [
    "# Q-2 \n",
    "Write a program in Python language that asks the user to enter a string s  \n",
    "\n",
    "1-display him all the characters contained in this string.\n",
    "Example for s = \"Python\", the program displays the characters:\n",
    "    P\n",
    "    y\n",
    "    t\n",
    "    h\n",
    "    o\n",
    "    n\n",
    "\n",
    "2-the number of occurrences of each character in the string.\n",
    "\n",
    "3-exchange the first and last characters of a given string.\n"
   ]
  },
  {
   "cell_type": "code",
   "execution_count": null,
   "metadata": {},
   "outputs": [],
   "source": []
  },
  {
   "cell_type": "markdown",
   "metadata": {},
   "source": [
    "# Q-3\n",
    "Write a program in Python that lists the strings that make up the list \n",
    "l =[\"laptop\", \"iphone\", \"tablet\", \"printer\", \"Ipad\"]  \n",
    "\n",
    "1-get the length of each string.\n"
   ]
  },
  {
   "cell_type": "code",
   "execution_count": null,
   "metadata": {},
   "outputs": [],
   "source": []
  },
  {
   "cell_type": "markdown",
   "metadata": {},
   "source": [
    "# Q-4\n",
    "Write a program that asks the user to open a file and return all words beginning with the letter a."
   ]
  },
  {
   "cell_type": "code",
   "execution_count": null,
   "metadata": {},
   "outputs": [],
   "source": []
  },
  {
   "cell_type": "markdown",
   "metadata": {},
   "source": [
    "# Q-5\n",
    "Write a Python program to count the Uppercase characters within a given string. Example if s = \"Python Programming\", the program must returns 2."
   ]
  },
  {
   "cell_type": "code",
   "execution_count": null,
   "metadata": {},
   "outputs": [],
   "source": []
  },
  {
   "cell_type": "markdown",
   "metadata": {},
   "source": [
    "# Q-6\n",
    "Write a Python program that extract the list of all urls from given a string s. Example if s = \"You can use google https://www.google.com or facebook https://www.facebook.com\" The algorithm returns the list"
   ]
  },
  {
   "cell_type": "code",
   "execution_count": null,
   "metadata": {},
   "outputs": [],
   "source": []
  },
  {
   "cell_type": "markdown",
   "metadata": {},
   "source": [
    "# Q-7\n",
    "Write a Python program that creates from a keyboard-typed integer n, a dictionary whose keys are integers from 1 to n and key values are their squares. Example for n = 7 the dictionary will be of the form:\n",
    "{1: 1, 2: 4, 3: 9, 4:16, 5:25, 6:36, 7:49}"
   ]
  },
  {
   "cell_type": "code",
   "execution_count": null,
   "metadata": {},
   "outputs": [],
   "source": []
  },
  {
   "cell_type": "markdown",
   "metadata": {},
   "source": [
    "# Q-8\n",
    "The following dictionary contains a student's math scores:\n",
    "scores = {'score1' : 16, 'score2' : 14, 'score3' : 17}\n",
    "update the notes dictionary by adding the average of scores."
   ]
  },
  {
   "cell_type": "code",
   "execution_count": null,
   "metadata": {},
   "outputs": [],
   "source": []
  },
  {
   "cell_type": "markdown",
   "metadata": {},
   "source": [
    "# Q-9\n",
    "Write a function called digit_sum that takes a positive integer n as input and returns the sum of all that number's digits."
   ]
  },
  {
   "cell_type": "code",
   "execution_count": null,
   "metadata": {},
   "outputs": [],
   "source": []
  },
  {
   "cell_type": "markdown",
   "metadata": {},
   "source": [
    "# Q-10\n",
    "Write a function remove_duplicates that takes in a list and removes elements of the list that are the same.For example: remove_duplicates([1,1,2,2]) should return [1,2]."
   ]
  },
  {
   "cell_type": "code",
   "execution_count": null,
   "metadata": {},
   "outputs": [],
   "source": []
  },
  {
   "cell_type": "markdown",
   "metadata": {},
   "source": [
    "# Q-11: Create parent and child classes Vechile & Bus (Vechile class)will have name, max_speed and mileage instance attributes (Bus class) will inherit all of the variables and methods of the Vehicle class"
   ]
  },
  {
   "cell_type": "code",
   "execution_count": null,
   "metadata": {},
   "outputs": [],
   "source": []
  },
  {
   "cell_type": "markdown",
   "metadata": {},
   "source": [
    "# Q-12: Bank Account class\n",
    "\n",
    "\n",
    "    1-Create a Python class called BankAccount which represents a bank account, having as attributes: \n",
    "      accountNumber (numeric type), name (name of the account owner as string type), balance.\n",
    "    2-Create a constructor with parameters: accountNumber, name, balance.\n",
    "    3-Create a Deposit() method which manages the deposit actions.\n",
    "    4-Create a Withdrawal() method  which manages withdrawals actions.\n",
    "    5-Create an bankFees() method to apply the bank fees with a percentage of 5% of the balance account.\n",
    "    6-Create a display() method to display account details.\n",
    "    \n",
    "    Give the complete code for the  BankAccount class."
   ]
  },
  {
   "cell_type": "code",
   "execution_count": null,
   "metadata": {},
   "outputs": [],
   "source": []
  },
  {
   "cell_type": "markdown",
   "metadata": {},
   "source": [
    "# Q-13: define a Circle class allowing to create a circleC (O, r) with center O(a, b) and radius r using the constructor:\n",
    "    def __init__(self,a,b,r):         \n",
    "        self.a = a         \n",
    "        self.b = b         \n",
    "        self.r = r\n",
    "    2 - Define a Area() method of the class which calculates the area of ​​the circle.\n",
    "\n",
    "    3 - Define a Perimeter() method of the class which allows you to calculate the perimeter of the circle.\n",
    "\n",
    "    4 - Define a testBelongs() method of the class which allows to test whether a point A(x, y) belongs to the \n",
    "    circle C(O, r) or not."
   ]
  },
  {
   "cell_type": "code",
   "execution_count": null,
   "metadata": {},
   "outputs": [],
   "source": []
  },
  {
   "cell_type": "markdown",
   "metadata": {},
   "source": [
    "# Q-14: Coding a class named myString inheriting from the str class allowing to endow strings with append() and pop () methods doing the same operations as those of lists class."
   ]
  },
  {
   "cell_type": "code",
   "execution_count": null,
   "metadata": {},
   "outputs": [],
   "source": []
  },
  {
   "cell_type": "markdown",
   "metadata": {},
   "source": [
    "# Q-15: Define a Book class with the following attributes: Title, Author (Full name), Price. Define a constructor used to initialize the attributes of the method with values entered by the user. Set the View() method to display information for the current book. Write a program to testing the Book class."
   ]
  },
  {
   "cell_type": "code",
   "execution_count": null,
   "metadata": {},
   "outputs": [],
   "source": []
  },
  {
   "cell_type": "markdown",
   "metadata": {},
   "source": [
    "# Q-16: Computation class:\n",
    "\n",
    "\n",
    "    1 - Create a Coputation class with a default constructor (without parameters) allowing to perform various \n",
    "    calculations on integers numbers.\n",
    "    2 - Create a method called Factorial() which allows to calculate the factorial of an integer. Test the method \n",
    "    by instantiating the class.\n",
    "    3 - Create a method called Sum() allowing to calculate the sum of the first n integers 1 + 2 + 3 + .. + n. \n",
    "    Test this method.\n",
    "    4 - Create a method called testPrim() in  the Calculation class to test the primality of a given integer. Test \n",
    "    this method.\n",
    "    4 - Create  a method called testPrims() allowing to test if two numbers are prime between them.\n",
    "    5 - Create a tableMult() method which creates and displays the multiplication table of a given integer. Then \n",
    "    create an allTablesMult() method to display all the integer multiplication tables 1, 2, 3, ..., 9.\n",
    "    6 - Create a static listDiv() method that gets all the divisors of a given integer on new list called  Ldiv. \n",
    "    Create another listDivPrim() method that gets all the prime divisors of a given integer."
   ]
  },
  {
   "cell_type": "code",
   "execution_count": null,
   "metadata": {},
   "outputs": [],
   "source": []
  },
  {
   "cell_type": "markdown",
   "metadata": {},
   "source": [
    "# Q-17:Write a Geometry class with default constructor having no parameters.\n",
    "    Write a methode in Geometry class called distance() that allow to compute a distance between two points A = \n",
    "    (a1, a2), B = (b1, b2) (with the convention: a point M is identified with its pair of coordinates M = (x,y)).\n",
    "     Write a methode in Geometry class called middle() allowing to determine the midle of bipoint (A,B).\n",
    "    Write method called trianglePerimeter() allowing to compute the perimeter of triangle\n",
    "    Write method called triangleIsoscel() which returns a True if the triangle is isoscel and False if not."
   ]
  },
  {
   "cell_type": "code",
   "execution_count": null,
   "metadata": {},
   "outputs": [],
   "source": []
  }
 ],
 "metadata": {
  "kernelspec": {
   "display_name": "Python 3",
   "language": "python",
   "name": "python3"
  },
  "language_info": {
   "codemirror_mode": {
    "name": "ipython",
    "version": 3
   },
   "file_extension": ".py",
   "mimetype": "text/x-python",
   "name": "python",
   "nbconvert_exporter": "python",
   "pygments_lexer": "ipython3",
   "version": "3.8.10"
  }
 },
 "nbformat": 4,
 "nbformat_minor": 4
}
