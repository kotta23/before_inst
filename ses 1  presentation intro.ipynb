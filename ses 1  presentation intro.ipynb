{
 "cells": [
  {
   "cell_type": "markdown",
   "metadata": {},
   "source": [
    "##       Taking an Input "
   ]
  },
  {
   "cell_type": "code",
   "execution_count": 2,
   "metadata": {
    "slideshow": {
     "slide_type": "subslide"
    }
   },
   "outputs": [
    {
     "name": "stdout",
     "output_type": "stream",
     "text": [
      "Enter number :1\n",
      "1\n",
      "Enter name : ad\n",
      "ad\n",
      "######################################################################################################## \n",
      "\n",
      "type of number <class 'int'>\n",
      "type of name <class 'str'>\n"
     ]
    }
   ],
   "source": [
    "# Python program showing  \n",
    "# a use of input() \n",
    "\n",
    "num =int( input (\"Enter number :\") )\n",
    "print(num) \n",
    "name1 = (input(\"Enter name : \")) \n",
    "print(name1) "
   ]
  },
  {
   "cell_type": "code",
   "execution_count": null,
   "metadata": {},
   "outputs": [],
   "source": [
    "# Printing type of input value \n",
    "print (\"type of number\", type(num)) \n",
    "print (\"type of name\", type(name1)) "
   ]
  },
  {
   "cell_type": "markdown",
   "metadata": {
    "slideshow": {
     "slide_type": "slide"
    }
   },
   "source": [
    "##    Variable Names \n",
    "||||\n",
    "| :- | -: | :-: |\n",
    "|1.| Must start with a letter (or underscore).\n",
    "|2.|Can include letters, digits, and underscores, but nothing else.\n",
    "||Example:|Case matters: age = 11\n",
    "||Valid: |_moo_cow, cep3, I_LIKE_TRASH\n",
    "||Invalid:| 49ers, @home\n",
    "||Different:|spam , Spam , SPAM\n",
    "||Reserved Words|and,del,for,is,raise,assert,elif,from,lambda,return,break,else,global,not,try,class,except,   if,or,while,continue,exec,import,pass,yield,def,ﬁnally,in,print,as,with,|\n",
    "|3.| Python convention: pothole_case"
   ]
  },
  {
   "cell_type": "code",
   "execution_count": 14,
   "metadata": {
    "slideshow": {
     "slide_type": "subslide"
    }
   },
   "outputs": [
    {
     "name": "stdout",
     "output_type": "stream",
     "text": [
      "_moocow: 1\n"
     ]
    }
   ],
   "source": [
    "_moocow = 1\n",
    "print(\"_moocow:\",_moocow)"
   ]
  },
  {
   "cell_type": "code",
   "execution_count": null,
   "metadata": {},
   "outputs": [],
   "source": [
    "cep3 = 2\n",
    "print(\"cep3:\",cep3)"
   ]
  },
  {
   "cell_type": "code",
   "execution_count": null,
   "metadata": {},
   "outputs": [],
   "source": [
    "I_LIKE_TRASH = 3 \n",
    "print(\"I_LIKE_TRASH:\",I_LIKE_TRASH)"
   ]
  },
  {
   "cell_type": "code",
   "execution_count": null,
   "metadata": {},
   "outputs": [],
   "source": [
    "#not a valid named variable\n",
    "print('not a valid named variable \\n')"
   ]
  },
  {
   "cell_type": "code",
   "execution_count": null,
   "metadata": {},
   "outputs": [],
   "source": [
    "print(\"triple quates:\",\"\"\"49ers = 4\n",
    "print(49ers)\n",
    "@home = 5\n",
    "print(@home)\n",
    "\"\"\")"
   ]
  },
  {
   "cell_type": "markdown",
   "metadata": {},
   "source": [
    "##       Arithmetic operators:\n",
    "| OPERATOR | DESCRIPTION | SYNTAX |\n",
    "| :- | -: | :-: |\n",
    "| + | Addition: adds two operands | x + y \n",
    "| - | Subtraction: subtracts two operands | x - y \n",
    "| * | Multiplication: multiplies two operands | x * y \n",
    "| / | Division (float): divides the first operand by the second | x / y \n",
    "| // | Division (floor): divides the first operand by the second | x // y \n",
    "| % | Modulus: returns the remainder when first operand is divided by the second | x % y \n",
    "| ** | Power : Returns first raised to power second | x ** y \n",
    "|  |  | \n"
   ]
  },
  {
   "cell_type": "code",
   "execution_count": null,
   "metadata": {},
   "outputs": [],
   "source": [
    "\n",
    "# Examples of Arithmetic Operator  \n",
    "a = 9\n",
    "b = 4"
   ]
  },
  {
   "cell_type": "code",
   "execution_count": null,
   "metadata": {},
   "outputs": [],
   "source": [
    "# Addition of numbers  \n",
    "add = a + b  \n",
    "print(\"add:\",add)    \n"
   ]
  },
  {
   "cell_type": "code",
   "execution_count": null,
   "metadata": {},
   "outputs": [],
   "source": [
    "# Subtraction of numbers  \n",
    "sub = a - b  \n",
    "print(\"sub:\",sub) "
   ]
  },
  {
   "cell_type": "code",
   "execution_count": null,
   "metadata": {},
   "outputs": [],
   "source": [
    "# Multiplication of number  \n",
    "mul = a * b  \n",
    "print(\"mul:\",mul)  "
   ]
  },
  {
   "cell_type": "code",
   "execution_count": null,
   "metadata": {},
   "outputs": [],
   "source": [
    "# Division(float) of number  \n",
    "div1 = a / b  \n",
    "print(\"div1:\",div1) "
   ]
  },
  {
   "cell_type": "code",
   "execution_count": null,
   "metadata": {},
   "outputs": [],
   "source": [
    "# Division(floor) of number  \n",
    "div2 = a // b  \n",
    "print(\"div2:\",div2)  "
   ]
  },
  {
   "cell_type": "code",
   "execution_count": null,
   "metadata": {},
   "outputs": [],
   "source": [
    "# Modulo of both number  \n",
    "mod = a % b  \n",
    "print(\"mod:\",mod) "
   ]
  },
  {
   "cell_type": "code",
   "execution_count": null,
   "metadata": {},
   "outputs": [],
   "source": [
    "# Power \n",
    "po = a ** b \n",
    "print(\"po:\",po) \n"
   ]
  },
  {
   "cell_type": "markdown",
   "metadata": {},
   "source": [
    "##  Relational Operators: \n",
    "| OPERATOR | DESCRIPTION | SYNTAX |\n",
    "| :- | -: | :-: |\n",
    "| > |RelationalGreater than: True if left operand is greater than the right  |   x > y \n",
    "| < | Less than: True if left operand is less than the right\t |   x < y \n",
    "| == | Equal to: True if both operands are equal |   x == y \n",
    "| != | Not equal to - True if operands are not equal |   x != y \n",
    "| >= | Greater than or equal to: True if left operand is greater than or equal to the right |  x >= y \n",
    "| <= |  Less than or equal to: True if left operand is less than or equal to the right|   x <= y \n",
    "|  |  | \n"
   ]
  },
  {
   "cell_type": "code",
   "execution_count": null,
   "metadata": {},
   "outputs": [],
   "source": [
    "# Examples of Relational Operators \n",
    "a = 13\n",
    "b = 33"
   ]
  },
  {
   "cell_type": "code",
   "execution_count": null,
   "metadata": {},
   "outputs": [],
   "source": [
    "# a > b is False \n",
    "print(\"a > b :\",a > b) "
   ]
  },
  {
   "cell_type": "code",
   "execution_count": null,
   "metadata": {},
   "outputs": [],
   "source": [
    "# a < b is True \n",
    "print(\"a < b:\",a < b) "
   ]
  },
  {
   "cell_type": "code",
   "execution_count": null,
   "metadata": {},
   "outputs": [],
   "source": [
    "# a == b is False \n",
    "print(\"a == b:\",a == b) "
   ]
  },
  {
   "cell_type": "code",
   "execution_count": null,
   "metadata": {},
   "outputs": [],
   "source": [
    "# a != b is True \n",
    "print(\"a != b:\",a != b) "
   ]
  },
  {
   "cell_type": "code",
   "execution_count": null,
   "metadata": {},
   "outputs": [],
   "source": [
    "# a >= b is False \n",
    "print(\"a >= b:\",a >= b) "
   ]
  },
  {
   "cell_type": "code",
   "execution_count": null,
   "metadata": {},
   "outputs": [],
   "source": [
    "# a <= b is True \n",
    "print(\"a <= b:\",a <= b) \n"
   ]
  },
  {
   "cell_type": "markdown",
   "metadata": {},
   "source": [
    "## Logical operators:\n",
    "| OPERATOR | DESCRIPTION | SYNTAX |\n",
    "| :- | -: | :-: |\n",
    "| and | Logical AND: True if both the operands are true |   x and y \n",
    "| or | Logical OR: True if either of the operands is true\t |   x or y \n",
    "| not | Logical NOT: True if operand is false\t |   not x  \n",
    "| any | Returns true if any of the items is True | any([False, True, False, False])\n",
    "| all | Returns true if all of the items are True  | all([False, True, True, False])"
   ]
  },
  {
   "cell_type": "code",
   "execution_count": null,
   "metadata": {},
   "outputs": [],
   "source": [
    "# Examples of Logical Operator \n",
    "a = True\n",
    "b = False"
   ]
  },
  {
   "cell_type": "code",
   "execution_count": null,
   "metadata": {},
   "outputs": [],
   "source": [
    "# Print a and b is False \n",
    "print(\"a and b:\",a and b) "
   ]
  },
  {
   "cell_type": "code",
   "execution_count": null,
   "metadata": {},
   "outputs": [],
   "source": [
    "# Print a or b is True \n",
    "print(\"a or b:\",a or b) "
   ]
  },
  {
   "cell_type": "code",
   "execution_count": null,
   "metadata": {},
   "outputs": [],
   "source": [
    "# Print not a is False \n",
    "print(\"not a:\",not a) "
   ]
  },
  {
   "cell_type": "code",
   "execution_count": null,
   "metadata": {},
   "outputs": [],
   "source": [
    "# Here the method will short-circuit at the \n",
    "# second item (True) and will return True. \n",
    "print (\"any:\",any([False, True, False, False])) "
   ]
  },
  {
   "cell_type": "code",
   "execution_count": null,
   "metadata": {},
   "outputs": [],
   "source": [
    "# Here the method will short-circuit at the  \n",
    "# first item (False) and will return False. \n",
    "print (\"all:\",all([False, True, True, False])) \n"
   ]
  },
  {
   "cell_type": "markdown",
   "metadata": {},
   "source": [
    "## Bitwise operators:\n",
    "| OPERATOR | DESCRIPTION | SYNTAX |\n",
    "| :- | -: | :-: |\n",
    "| & | Bit wise AND |  x & y \n",
    "|  | Bit wise OR |  x  y  \n",
    "| ~ | Bit wise NOT |  x ~ y \n",
    "| ^ | Bit wise XOR|  x ^ y  \n",
    "| >> | Bit wise Right Shift |  x >> y  \n",
    "| << | Bit wise Left Shift |  x << y  "
   ]
  },
  {
   "cell_type": "code",
   "execution_count": null,
   "metadata": {},
   "outputs": [],
   "source": [
    "# Examples of Bitwise operators \n",
    "a = 10\n",
    "b = 4"
   ]
  },
  {
   "cell_type": "code",
   "execution_count": null,
   "metadata": {},
   "outputs": [],
   "source": [
    "# Print bitwise AND operation   \n",
    "print(\"bitwise AND operation a & b:\",a & b) "
   ]
  },
  {
   "cell_type": "code",
   "execution_count": null,
   "metadata": {},
   "outputs": [],
   "source": [
    "# Print bitwise OR operation \n",
    "print(\"bitwise OR operation a | b:\",a | b) "
   ]
  },
  {
   "cell_type": "code",
   "execution_count": null,
   "metadata": {},
   "outputs": [],
   "source": [
    "# Print bitwise NOT operation  \n",
    "print(\"bitwise NOT operation a:\",~a) "
   ]
  },
  {
   "cell_type": "code",
   "execution_count": null,
   "metadata": {},
   "outputs": [],
   "source": [
    "\n",
    "# print bitwise XOR operation  \n",
    "print(\"XOR operation a ^ b:\",a ^ b)"
   ]
  },
  {
   "cell_type": "code",
   "execution_count": null,
   "metadata": {},
   "outputs": [],
   "source": [
    "# print bitwise right shift operation  \n",
    "print(\"right shift operation a >> 2 :\",a >> 2) "
   ]
  },
  {
   "cell_type": "code",
   "execution_count": null,
   "metadata": {},
   "outputs": [],
   "source": [
    "# print bitwise left shift operation  \n",
    "print(\"left shift operation a << 2:\",a << 2) "
   ]
  },
  {
   "cell_type": "markdown",
   "metadata": {},
   "source": [
    "##       Assign Variables\n",
    "| OPERATOR | DESCRIPTION | SYNTAX |\n",
    "| :- | -: | :-: |\n",
    "| = |Assign value of right side of expression to left side operand |  x = y + z \n",
    "| , ,  |Assign multi values of right side of expression to left side operands | x,y,e,q = 5,2,9,1\n",
    "| += |Add AND: Add right side operand with left side operand and then assign to left operand |a+=b     a=a+b\n",
    "And the same goes fo similar operators\n",
    "\t\t"
   ]
  },
  {
   "cell_type": "code",
   "execution_count": 15,
   "metadata": {},
   "outputs": [
    {
     "name": "stdout",
     "output_type": "stream",
     "text": [
      "a: 5\n"
     ]
    }
   ],
   "source": [
    "a = 5\n",
    "print(\"a:\",a)"
   ]
  },
  {
   "cell_type": "code",
   "execution_count": null,
   "metadata": {},
   "outputs": [],
   "source": [
    "x,y,e,q = 5,2,9,1\n",
    "print(\"x,y,e,q:\",x,y,e,q)\n",
    "print(\"x:\",x)\n",
    "print(\"y:\",y)\n",
    "print(\"e:\",e)\n",
    "print(\"q:\",q)"
   ]
  },
  {
   "cell_type": "code",
   "execution_count": null,
   "metadata": {},
   "outputs": [],
   "source": [
    "a+=x\n",
    "print(\"a+=x:\",a)"
   ]
  },
  {
   "cell_type": "markdown",
   "metadata": {},
   "source": [
    "##       Print\n",
    "| Print in specific position |  |  |\n",
    "| :- | -: | :-: |\n",
    "| print(f'') |print variable in specific place  |  print(f'hello world from {x} , have a good day')\n",
    "| ptint(''.format())  | print variable in specific place| print('hello world from {} , have a good day'.format(x))\n",
    "|print('  %s , %d , %b' %(x , y, z))|print variable in specific place (old formting)|print('hello world from %s , have a good day' %x)|"
   ]
  },
  {
   "cell_type": "code",
   "execution_count": 16,
   "metadata": {},
   "outputs": [
    {
     "name": "stdout",
     "output_type": "stream",
     "text": [
      "please enter your name : \n",
      "as\n",
      "hello world from as , have a goof day\n"
     ]
    }
   ],
   "source": [
    "x= input ('please enter your name : \\n')\n",
    "print(f'hello world from {x} , have a goof day')"
   ]
  },
  {
   "cell_type": "code",
   "execution_count": null,
   "metadata": {},
   "outputs": [],
   "source": [
    "y = x \n",
    "print('hello world from {} , have a good day {}'.format(x*2,y))\n"
   ]
  },
  {
   "cell_type": "code",
   "execution_count": null,
   "metadata": {},
   "outputs": [],
   "source": [
    "print(\"%s=%s\" % (\"pi\", 3.14159))\n"
   ]
  }
 ],
 "metadata": {
  "kernelspec": {
   "display_name": "Python 3",
   "language": "python",
   "name": "python3"
  },
  "language_info": {
   "codemirror_mode": {
    "name": "ipython",
    "version": 3
   },
   "file_extension": ".py",
   "mimetype": "text/x-python",
   "name": "python",
   "nbconvert_exporter": "python",
   "pygments_lexer": "ipython3",
   "version": "3.8.10"
  }
 },
 "nbformat": 4,
 "nbformat_minor": 4
}
