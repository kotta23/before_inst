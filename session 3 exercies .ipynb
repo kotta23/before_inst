{
 "cells": [
  {
   "cell_type": "markdown",
   "metadata": {},
   "source": [
    "#### Q.1- Split this string:\n",
    "\n",
    "s = \"Hi there Sam!\"\n",
    "<br>\n",
    "into a list. \n",
    "<br>\n",
    " <font color='red'>the output would be ['Hi' , 'there' , 'Sam!']</font>"
   ]
  },
  {
   "cell_type": "code",
   "execution_count": 3,
   "metadata": {},
   "outputs": [],
   "source": [
    "s = \"Hi there Sam!\"\n",
    "# put your code here\n"
   ]
  },
  {
   "cell_type": "markdown",
   "metadata": {},
   "source": [
    "####  Q.2- Given this nested dictionary grab the word \"hello\". Be prepared, this will be annoying/tricky?\n",
    "<br>\n",
    "Dictionary\n",
    "<br>"
   ]
  },
  {
   "cell_type": "code",
   "execution_count": 4,
   "metadata": {},
   "outputs": [],
   "source": [
    "d = {'k1':[1,2,3,{'tricky':['oh','man','inception',{'target':[1,2,3,'hello']}]}]}\n",
    "# put your code that grabs and print the \"hello\" here\n"
   ]
  },
  {
   "cell_type": "markdown",
   "metadata": {},
   "source": [
    "#### Q.3- You are driving a little too fast, \n",
    "and a police officer stops you. Write a function to return one of 3 possible results:\n",
    "\"No ticket\", \"Small ticket\", or \"Big Ticket\". If your speed is 60 or less, the result is \"No Ticket\". \n",
    "If speed is between 61 and 80 inclusive, the result is \"Small Ticket\". \n",
    "If speed is 81 or more, the result is \"Big Ticket\". \n",
    "Unless it is your birthday (encoded as a boolean value in the parameters of the function)\n",
    "-- on your birthday, your speed can be 5 higher in all cases."
   ]
  },
  {
   "cell_type": "code",
   "execution_count": null,
   "metadata": {},
   "outputs": [],
   "source": [
    "def caught_speeding(speed, is_birthday):\n",
    "    # put your code here\n",
    "\n",
    "print(caught_speeding(81,True)) # this should print Small Ticket\n",
    "print(caught_speeding(81,False)) # this should print Big Ticket"
   ]
  },
  {
   "cell_type": "markdown",
   "metadata": {},
   "source": [
    "##### Q.4- implement grouped by owner function that \n",
    "\n",
    "\n",
    "*   accept a dictinary containg file owner name for each file name\n",
    "*   return a dictionary of containing a list of file names for each owner name in any order\n",
    "\n",
    "\n",
    "> for example if you pass \n",
    "{\n",
    "    'Input.txt': 'Randy',\n",
    "    'Code.py': 'Stan',\n",
    "    'Output.txt': 'Randy'\n",
    "}  as input the utput should be \n",
    "{'Randy': ['Input.txt', 'Output.txt'], 'Stan': ['Code.py']}\n",
    "\n",
    "\n",
    "\n"
   ]
  },
  {
   "cell_type": "code",
   "execution_count": null,
   "metadata": {},
   "outputs": [],
   "source": []
  },
  {
   "cell_type": "markdown",
   "metadata": {},
   "source": [
    "#### Q.5-: Given a list iterate it and display numbers which are divisible by 5 and if you find number greater than 150 stop the loop iteration\n",
    "\n",
    "list1 = [12, 15, 32, 42, 55, 75, 122, 132, 150, 180, 200]"
   ]
  },
  {
   "cell_type": "code",
   "execution_count": null,
   "metadata": {},
   "outputs": [],
   "source": []
  },
  {
   "cell_type": "markdown",
   "metadata": {},
   "source": [
    "#### Q.6\n",
    "seq = ['soup','dog','salad','cat','great']\n",
    "\n",
    "should be filtered down to:\n",
    "\n",
    "['soup','salad']"
   ]
  },
  {
   "cell_type": "code",
   "execution_count": null,
   "metadata": {},
   "outputs": [],
   "source": []
  },
  {
   "cell_type": "markdown",
   "metadata": {},
   "source": [
    "# Q-6: Product Function\n",
    "\n",
    "### Write a function called product that accepts two patrametrs and returns the product of the two parameters numbers (multiply them together)\n",
    "\n",
    "\n",
    "\n",
    "     Example for testing your program\n",
    "     product(2,2) # 4\n",
    "     product(2,-2) # -4"
   ]
  },
  {
   "cell_type": "code",
   "execution_count": null,
   "metadata": {},
   "outputs": [],
   "source": []
  },
  {
   "cell_type": "markdown",
   "metadata": {},
   "source": [
    "# Q-7: Return Day\n",
    "\n",
    "\n",
    "### Write a function called returnDay. This function takes in one parameter ( a number from 1-7) and returns the day of the week ( 1 is Sunday, 2 is Monday etc.). If the number is less than 1 or greater than 7, the function should return None.\n",
    "\n",
    "    Expected output\n",
    "    returnDay(1) --> Sunday\n"
   ]
  },
  {
   "cell_type": "code",
   "execution_count": null,
   "metadata": {},
   "outputs": [],
   "source": [
    "   "
   ]
  },
  {
   "cell_type": "markdown",
   "metadata": {},
   "source": [
    "# Q-8: Last Element\n",
    "\n",
    "\n",
    "### Write a function called lastElement. This function takes one parameter (a list) and returns the last value in the list. It should return None if the list is empty.\n",
    "\n",
    "     Example Output\n",
    "     lastElement([1,2,3]) # 3\n",
    "     lastElement([]) # None"
   ]
  },
  {
   "cell_type": "code",
   "execution_count": null,
   "metadata": {},
   "outputs": [],
   "source": []
  },
  {
   "cell_type": "markdown",
   "metadata": {},
   "source": [
    "# Q-9 Number Compare\n",
    "\n",
    "\n",
    "### Write a function called numberCompare. This function takes in two parameters (both numbers). If the first parameter is greater than the second, this function returns \"First is Greater\". If the second parameter is greater than the first, this function returns \"Second is Greater\" Else the function returns \"Numbers are Equal\".\n",
    "\n",
    "     Example output\n",
    "     numberCompare(1,1) # \"Numbers are equal\"\n",
    "     numberCompare(1,0) # \"First is greater\"\n",
    "     numberCompare(2,4) # \"Second is greater\""
   ]
  },
  {
   "cell_type": "code",
   "execution_count": null,
   "metadata": {},
   "outputs": [],
   "source": []
  },
  {
   "cell_type": "markdown",
   "metadata": {},
   "source": [
    "# Q-10 Single Letter Count\n",
    "\n",
    "\n",
    "### Wrtie a function called singleLetterCount. This function takes in two parametrs (two strings). The first parameter should be a word and second should be a letter. The function returns the number of times that letter appears in the word. The function should be case insensitive (does not matter if the input is lowercase or uppercase). If the letter is not found in the word, the function should return 0.\n",
    "\n",
    "#### HINT - Take advantage of the count() method.\n",
    "\n",
    "     Example output\n",
    "     singleLetterCount(\"Hello World\", \"h\") # 1\n",
    "     singleLetterCount(\"Hello World\", \"z\") # 0\n",
    "     singleLetterCount(\"HelLo World\", \"l\") # 3\n"
   ]
  },
  {
   "cell_type": "code",
   "execution_count": null,
   "metadata": {},
   "outputs": [],
   "source": []
  },
  {
   "cell_type": "markdown",
   "metadata": {},
   "source": [
    "# Q-11: Multiple Letter Count\n",
    "\n",
    "\n",
    "### Write a function called multipleLetterCount. This function takes in one parameter (a string) and returns a dictionary with the keys being the letters and the value being the count of the letter.\n",
    "\n",
    "#### HINT - use for loop and count()\n",
    "\n",
    "     Example output:\n",
    "     multipleLetterCount('awesome') \n",
    "     {'a': 1, 'e': 2, 'm': 1, 'o': 1, 's': 1, 'w': 1}"
   ]
  },
  {
   "cell_type": "code",
   "execution_count": null,
   "metadata": {},
   "outputs": [],
   "source": []
  },
  {
   "cell_type": "markdown",
   "metadata": {},
   "source": [
    "# Q-12: List Manipulation\n",
    "\n",
    "\n",
    "### Write a function called listManipulation. This function should take in four parameters ( a list, command, location and value).\n",
    "### 1. IF the command is 'remove' and the location is 'end', the function should remove the last value  in the list and return the value removed.\n",
    "### 2. IF the command is 'remove' and the location is 'beginning', the function should remove the first value  in the list and return the value removed.\n",
    "### 3. IF the command is 'add' and the location is 'beginning', the function should add the value (the 4th parameter) to the beginning of the list and return the list.\n",
    "### 4. IF the command is 'add' and the location is 'end', the function should add the value (the 4th parameter) to the end of the list and return the list.\n",
    "\n",
    "     Example output\n",
    "     listManipulation([1,2,3], \"remove\", \"end\") # 3\n",
    "     listManipulation([1,2,3], \"remove\", \"beginning\") #  1\n",
    "     listManipulation([1,2,3], \"add\", \"beginning\", 20) #  [20,1,2,3]\n",
    "     listManipulation([1,2,3], \"add\", \"end\", 30) #  [1,2,3,30]\n"
   ]
  },
  {
   "cell_type": "code",
   "execution_count": null,
   "metadata": {},
   "outputs": [],
   "source": []
  },
  {
   "cell_type": "markdown",
   "metadata": {},
   "source": [
    "# Q-13: Write a function func1() such that it can accept a variable length of  argument and print all arguments value\n",
    "    func1(20, 40, 60)\n",
    "    func1(80, 100)"
   ]
  },
  {
   "cell_type": "code",
   "execution_count": null,
   "metadata": {},
   "outputs": [],
   "source": []
  },
  {
   "cell_type": "markdown",
   "metadata": {},
   "source": [
    "# Q-14:Generate a Python list of all the even numbers between 4 to 30\n",
    "\n",
    "    Expected Output:\n",
    "\n",
    "    [4, 6, 8, 10, 12, 14, 16, 18, 20, 22, 24, 26, 28]"
   ]
  },
  {
   "cell_type": "code",
   "execution_count": null,
   "metadata": {},
   "outputs": [],
   "source": []
  },
  {
   "cell_type": "markdown",
   "metadata": {},
   "source": [
    "# Q-15: Return the largest item from the given list\n",
    "    \n",
    "    aList = [4, 6, 8, 24, 12, 2]"
   ]
  },
  {
   "cell_type": "code",
   "execution_count": null,
   "metadata": {},
   "outputs": [],
   "source": []
  },
  {
   "cell_type": "markdown",
   "metadata": {},
   "source": [
    "### Q.16 Write a program that repeatedly asks the user to enter product names and prices. Store all\n",
    "of these in a dictionary whose keys are the product names and whose values are the prices. When\n",
    "the user is done entering products and prices, allow them to repeatedly enter a product name and\n",
    "print the corresponding price or a message if the product is not in the dictionary."
   ]
  },
  {
   "cell_type": "code",
   "execution_count": null,
   "metadata": {},
   "outputs": [],
   "source": []
  },
  {
   "cell_type": "markdown",
   "metadata": {},
   "source": [
    "### Q.17 Write a program that uses a dictionary that contains ten user names and passwords. The\n",
    "program should ask the user to enter their username and password. If the username is not in the\n",
    "dictionary, the program should indicate that the person is not a valid user of the system. If the\n",
    "username is in the dictionary, but the user does not enter the right password, the program should\n",
    "say that the password is invalid. If the password is correct, then the program should tell the user\n",
    "that they are now logged in to the system"
   ]
  },
  {
   "cell_type": "code",
   "execution_count": null,
   "metadata": {},
   "outputs": [],
   "source": []
  },
  {
   "cell_type": "markdown",
   "metadata": {},
   "source": [
    "### Q.18 Dictionaries provide a convenient way to store structured data. Here is an example dictio-\n",
    "nary: d=[{ ’ name ’ : ’ Todd ’ , ’ phone ’ : ’ 555-1414 ’ , ’ email ’ : ’ todd@mail.net ’ }, { ’ name\n",
    "’ : ’ Helga ’ , ’ phone ’ : ’ 555-1618 ’ , ’ email ’ : ’ helga@mail.net ’ }, { ’ name ’ : ’ Princess ’\n",
    ", ’ phone ’ : ’ 555-3141 ’ , ’ email ’ : ” }, { ’ name ’ : ’ LJ ’ , ’ phone ’ : ’ 555-2718 ’ , ’ email\n",
    "’ : ’ lj@mail.net ’ }] Write a program that reads through any dictionary like this and prints the\n",
    "following: (a) All the users whose phone number ends in an 8 (b) All the users that don’t have an\n",
    "email address listed"
   ]
  },
  {
   "cell_type": "code",
   "execution_count": null,
   "metadata": {},
   "outputs": [],
   "source": []
  },
  {
   "cell_type": "markdown",
   "metadata": {},
   "source": [
    "### Q.19 we have a sample for a coronavirus genome, you have to identify the repeated sequences in\n",
    "the genome? for example if the genome = AAAACGAAG AAA AAGCCT the output should be\n",
    "“AAA” repeated 2 “ACG” repeated 1 “AAG” repeated 2 “CCT” repeated 1 in this example, we\n",
    "have assumed that we are partitioning the string to chunks each chunk contain 3 digits.\n",
    "how many repeated chunks in the sequence?"
   ]
  },
  {
   "cell_type": "code",
   "execution_count": null,
   "metadata": {},
   "outputs": [],
   "source": [
    "genome ='''ATTAAAGGTTTATACCTTCCCAGGTAACAAACCAACCAACTTTCGATCTCTTGTAGATCTGTTCTCTAAACGAACTTTAAAATCTGTGT'''"
   ]
  },
  {
   "cell_type": "code",
   "execution_count": null,
   "metadata": {},
   "outputs": [],
   "source": []
  }
 ],
 "metadata": {
  "kernelspec": {
   "display_name": "Python 3",
   "language": "python",
   "name": "python3"
  },
  "language_info": {
   "codemirror_mode": {
    "name": "ipython",
    "version": 3
   },
   "file_extension": ".py",
   "mimetype": "text/x-python",
   "name": "python",
   "nbconvert_exporter": "python",
   "pygments_lexer": "ipython3",
   "version": "3.8.10"
  }
 },
 "nbformat": 4,
 "nbformat_minor": 4
}
