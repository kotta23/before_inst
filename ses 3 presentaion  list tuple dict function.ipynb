{
 "cells": [
  {
   "cell_type": "markdown",
   "metadata": {},
   "source": [
    "##  Assign lists\n",
    "\n",
    "    list a list is a collection of data which is ordered and changable & allow duplicate members|each member has an index & the first member's index is 0  \n",
    "\n",
    "\n",
    "    A single list may contain DataTypes like Integers, Strings, as well as Objects. Lists are mutable, and hence, they can be altered even after their creation."
   ]
  },
  {
   "cell_type": "markdown",
   "metadata": {},
   "source": [
    "||||\n",
    "| :- | -: | :-: |\n",
    "| [ ] |creat a list  |  x = [1,3,'re']\n",
    "| list((values))  | creat list | x = list(1,4,'sd') \n",
    "| x[index]=value | assign new value | x[4]=2 \n",
    "| x[index] | get value | x[4]  \n",
    "| x[start:end:step] | slice list or get multi value | x[:]\n",
    "| len(list) | get length | len(x)\n",
    "| list.append(value) | add value |  x.append()\n",
    "| list.remove(value) | remove value | x.remove()\n",
    "| list.insert(index , value) | insert to position |  x.insert(3,'a')\n",
    "| list.pop(index) | remove from position | x.pop(2)\n",
    "| list.reverse() | revrse list |  x.reverse()\n",
    "| list.sort() | sort list alphaiticaly (all element ust be from the same class)| x.sort()\n",
    "| list.sort(reverse=True) | reverse sort |  x.sort(reverse=True)"
   ]
  },
  {
   "cell_type": "code",
   "execution_count": null,
   "metadata": {},
   "outputs": [],
   "source": [
    "#assign\n",
    "x = [1,3,3,6,1,23,5,6,7,2,2]\n",
    "print(x)"
   ]
  },
  {
   "cell_type": "code",
   "execution_count": null,
   "metadata": {},
   "outputs": [],
   "source": [
    "# create empty list\n",
    "y = [5, 8, 3.14, -90 , \"hello\"]\n",
    "z = [5, 8, 3.14, -90 , \"hello\", [5, 9, [-30]]]"
   ]
  },
  {
   "cell_type": "code",
   "execution_count": null,
   "metadata": {},
   "outputs": [],
   "source": [
    "# you can access any ele using it's index\n",
    "print(z[3]) # this will print the ele at index 3 -90\n",
    "print(z[4])\n",
    "print(z[5])\n",
    "print(z[5][1])\n",
    "print(z[5][2][0])\n",
    "print(z[4][1])"
   ]
  },
  {
   "cell_type": "code",
   "execution_count": null,
   "metadata": {},
   "outputs": [],
   "source": [
    "# the negative indexing also works with lists\n",
    "print(z[-1])\n",
    "print(z[-1][2][0])\n",
    "print(z[-1][-1][-1])"
   ]
  },
  {
   "cell_type": "code",
   "execution_count": null,
   "metadata": {},
   "outputs": [],
   "source": [
    "#assign new value\n",
    "x[4]= 98\n",
    "print(x)"
   ]
  },
  {
   "cell_type": "code",
   "execution_count": null,
   "metadata": {},
   "outputs": [],
   "source": [
    "#get value\n",
    "print(x[2])"
   ]
  },
  {
   "cell_type": "code",
   "execution_count": null,
   "metadata": {},
   "outputs": [],
   "source": [
    "#get multi value\n",
    "y= x[5:7]\n",
    "print(x[2:4:1] , x[-4:] , x[:] , y)"
   ]
  },
  {
   "cell_type": "code",
   "execution_count": null,
   "metadata": {},
   "outputs": [],
   "source": [
    "#get length\n",
    "print(len(x))"
   ]
  },
  {
   "cell_type": "code",
   "execution_count": null,
   "metadata": {},
   "outputs": [],
   "source": [
    "# add value\n",
    "x.append(2)\n",
    "print(x)"
   ]
  },
  {
   "cell_type": "code",
   "execution_count": null,
   "metadata": {},
   "outputs": [],
   "source": [
    "x = [1,5,-90]\n",
    "y = [20,13]\n",
    "# what if we want to append each ele from the list y to list x\n",
    "# you can't say x.append(y) because the result would be [1,5,-90, [20,13]]\n",
    "# method 1\n",
    "for ele in y:\n",
    "x.append(ele)\n",
    "print(x)\n"
   ]
  },
  {
   "cell_type": "code",
   "execution_count": null,
   "metadata": {},
   "outputs": [],
   "source": [
    "#method 2\n",
    "x = [1,5,-90]\n",
    "y = [20,13]\n",
    "x.extend(y)\n",
    "print(x)\n"
   ]
  },
  {
   "cell_type": "code",
   "execution_count": null,
   "metadata": {},
   "outputs": [],
   "source": [
    "#remove value\n",
    "x.remove(1)\n",
    "print(x)"
   ]
  },
  {
   "cell_type": "code",
   "execution_count": null,
   "metadata": {},
   "outputs": [],
   "source": [
    "#add value in position\n",
    "print(x.insert(5,12))\n",
    "print(x)"
   ]
  },
  {
   "cell_type": "code",
   "execution_count": null,
   "metadata": {},
   "outputs": [],
   "source": [
    "#remove value from position\n",
    "print(x.pop(4))\n",
    "print(x)"
   ]
  },
  {
   "cell_type": "code",
   "execution_count": 17,
   "metadata": {},
   "outputs": [],
   "source": [
    "# Lists are mutable\n",
    "s = [\"hello \",\"world\"]\n",
    "s[1] = \"m\" # strings are imutable you can't modify their values"
   ]
  },
  {
   "cell_type": "code",
   "execution_count": null,
   "metadata": {},
   "outputs": [],
   "source": [
    "s = \"hello world\"\n",
    "s[1] = \"m\" # strings are imutable you can't modify their values"
   ]
  },
  {
   "cell_type": "code",
   "execution_count": null,
   "metadata": {},
   "outputs": [],
   "source": [
    "#reverse list\n",
    "print(x.reverse())\n",
    "print(x)"
   ]
  },
  {
   "cell_type": "code",
   "execution_count": null,
   "metadata": {},
   "outputs": [],
   "source": [
    "#sort list\n",
    "print(x.sort())\n",
    "print(x)"
   ]
  },
  {
   "cell_type": "code",
   "execution_count": null,
   "metadata": {},
   "outputs": [],
   "source": [
    "#reverse list\n",
    "print(x.sort(reverse=True))\n",
    "print(x)"
   ]
  },
  {
   "cell_type": "code",
   "execution_count": null,
   "metadata": {},
   "outputs": [],
   "source": [
    "#make a list \n",
    "y = list((1,4,'sd'))\n",
    "print(y)"
   ]
  },
  {
   "cell_type": "code",
   "execution_count": null,
   "metadata": {},
   "outputs": [],
   "source": [
    "# sort only work if the values of the list are same class\n",
    "print(y.sort())"
   ]
  },
  {
   "cell_type": "markdown",
   "metadata": {},
   "source": [
    "### List triks"
   ]
  },
  {
   "cell_type": "code",
   "execution_count": null,
   "metadata": {},
   "outputs": [],
   "source": [
    "# note try to visualize this code execution http://www.pythontutor.com/visualize.ht\n",
    "x = [1 , -90]\n",
    "y = x\n",
    "y[0] = -50\n",
    "print(x)\n",
    "print(y)"
   ]
  },
  {
   "cell_type": "code",
   "execution_count": null,
   "metadata": {},
   "outputs": [],
   "source": [
    "x = [1 , -90]\n",
    "y = x.copy()\n",
    "y[0] = -50\n",
    "print(x)\n",
    "print(y)"
   ]
  },
  {
   "cell_type": "code",
   "execution_count": null,
   "metadata": {},
   "outputs": [],
   "source": [
    "x = [1 , -90]\n",
    "y = x[:] # sometime they called [:] copy operator\n",
    "y[0] = -50\n",
    "print(x)\n",
    "print(y)"
   ]
  },
  {
   "cell_type": "code",
   "execution_count": null,
   "metadata": {},
   "outputs": [],
   "source": []
  },
  {
   "cell_type": "markdown",
   "metadata": {},
   "source": [
    "### iterate over the list"
   ]
  },
  {
   "cell_type": "code",
   "execution_count": null,
   "metadata": {},
   "outputs": [],
   "source": [
    "l1 = [1,5, -90 , \"hello\"]\n",
    "# method 1\n",
    "for ele in l1: # ele is any variable name like x you can rename it whatever you wan\n",
    "print(ele)\n",
    "print(\"*\"*20)\n",
    "# method 2 (using index)\n",
    "for i in range(len(l1)):#4 > 0, 1, 2, 3\n",
    "print(f\"the ele stored at index {i} is {l1[i]}\")"
   ]
  },
  {
   "cell_type": "code",
   "execution_count": null,
   "metadata": {},
   "outputs": [],
   "source": [
    "l1 = [ [1,5] ,[1,90], [20,-13] , [15,12]]\n",
    "# method 1\n",
    "summ = 0\n",
    "for sub_list in l1: # ele is any variable name like x you can rename it whatever yo\n",
    "for ele in sub_list:\n",
    "summ += ele\n",
    "print(summ)"
   ]
  },
  {
   "cell_type": "markdown",
   "metadata": {},
   "source": [
    "### shopping cart exercise"
   ]
  },
  {
   "cell_type": "code",
   "execution_count": null,
   "metadata": {},
   "outputs": [],
   "source": [
    "products = [[\"milk\", 3.5], [\"tea\", 50] , [\"product\" , 113]] # ?\n",
    "total_price = 0\n",
    "for product in products:\n",
    "total_price = total_price + product[1]\n",
    "total_price = total_price*1.14\n",
    "print(f\"you have added {len(products)} items.the total price for the added items {r"
   ]
  },
  {
   "cell_type": "markdown",
   "metadata": {},
   "source": [
    "### uber  exercise"
   ]
  },
  {
   "cell_type": "code",
   "execution_count": null,
   "metadata": {},
   "outputs": [],
   "source": [
    "!pip install geopy --user"
   ]
  },
  {
   "cell_type": "markdown",
   "metadata": {},
   "source": [
    "#### we are developing app like uber and we got a request in the server-side who is\n",
    "waiting in the Ramses Railway the mobile app sent his location(lat , lon) and our\n",
    "target is to connect the rider with the nearest driver. we have a list of drivers\n",
    "for each driver we know his (lat,lon, car name). develop an algorithm to choose\n",
    "the nearest car for a certain location from a list of cars.\n",
    "Note: to get distance between two points\n",
    "Notes:\n",
    "import geopy.distance\n",
    "location1 = [30.063249588012695 , 31.24689292907715]\n",
    "location2 = [30.068357467651367 , 31.344741821289062]\n",
    "distance= geopy.distance.vincenty(location1, location2).km # the distance in km\n",
    "print(distance) # this should print 9.451816024957292"
   ]
  },
  {
   "cell_type": "code",
   "execution_count": 18,
   "metadata": {},
   "outputs": [
    {
     "name": "stdout",
     "output_type": "stream",
     "text": [
      "16.743912725207693\n"
     ]
    }
   ],
   "source": [
    "import geopy.distance\n",
    "location1 = [30.063249588012695 , 31.24689292907715]\n",
    "location2 = [30.00708770751953 , 31.408044815063477]\n",
    "distance= geopy.distance.geodesic(location1, location2).km # the distance in km\n",
    "print(distance) # this should print 9.451816024957292"
   ]
  },
  {
   "cell_type": "code",
   "execution_count": null,
   "metadata": {},
   "outputs": [],
   "source": [
    "import geopy.distance\n",
    "rider_location = [30.063249588012695 , 31.24689292907715] # (lat , lon) Ramses Rail\n",
    "surrounding_drivers = [\n",
    "[30.068357467651367 , 31.344741821289062 , \"car2\"],\n",
    "# City Center, Makram Eba\n",
    "[30.04442596435547 , 31.235675811767578 , \"car1\"],\n",
    "# Tahrir Square\n",
    "[30.0284366607666\n",
    ", 31.408044815063477 , \"car3\"],\n",
    "# Cairo Festival City Mal\n",
    "[30.00708770751953 , 31.408044815063477 , \"car4\"]\n",
    "# Mall of Arabia, 6th of O\n",
    "]\n",
    "# distance= geopy.distance.geodesic(location1, location2).km # the distance in km\n",
    "min_dis_car = 999999999999999999\n",
    "car_name = \"\"\n",
    "for driver in surrounding_drivers:\n",
    "driver_loc = driver[:2]\n",
    "distance= geopy.distance.geodesic(rider_location, driver_loc).km\n",
    "if distance < min_dis_car:\n",
    "car_name = driver[2]\n",
    "min_dis_car = distance\n",
    "print(car_name)"
   ]
  },
  {
   "cell_type": "markdown",
   "metadata": {},
   "source": [
    "## List manuplation"
   ]
  },
  {
   "cell_type": "code",
   "execution_count": null,
   "metadata": {},
   "outputs": [],
   "source": [
    "x = [5 for i in range(10)]\n",
    "print(x)"
   ]
  },
  {
   "cell_type": "code",
   "execution_count": null,
   "metadata": {},
   "outputs": [],
   "source": [
    "L = [x**2 for x in range(5)]\n",
    "print(L)"
   ]
  },
  {
   "cell_type": "code",
   "execution_count": null,
   "metadata": {},
   "outputs": [],
   "source": [
    "x = [10 for i in range(3)]\n",
    "print(x)"
   ]
  },
  {
   "cell_type": "code",
   "execution_count": null,
   "metadata": {},
   "outputs": [],
   "source": [
    "# Conditionals in List Comprehension\n",
    "number_list = [ x for x in range(20) if x % 2 == 0]\n",
    "print(number_list)"
   ]
  },
  {
   "cell_type": "code",
   "execution_count": null,
   "metadata": {},
   "outputs": [],
   "source": [
    "# if...else With List Comprehension\n",
    "obj = [\"Even\" if i%2==0 else \"Odd\" for i in range(10)]\n",
    "print(obj)"
   ]
  },
  {
   "cell_type": "code",
   "execution_count": null,
   "metadata": {},
   "outputs": [],
   "source": [
    "number_list = []\n",
    "for x in range(20):\n",
    "    if x % 2 == 0:\n",
    "        number_list.append(x)\n",
    "print(number_list)"
   ]
  },
  {
   "cell_type": "code",
   "execution_count": null,
   "metadata": {},
   "outputs": [],
   "source": [
    "obj = []\n",
    "for i in range(10):\n",
    "    obj.append(\"Even\" if i%2==0 else \"Odd\")\n",
    "print(obj)\n"
   ]
  },
  {
   "cell_type": "code",
   "execution_count": null,
   "metadata": {},
   "outputs": [],
   "source": [
    "obj = []\n",
    "for i in range(10):\n",
    "    if i%2==0 :\n",
    "        obj.append(\"Even\")\n",
    "    else:\n",
    "        obj.append(\"Odd\")\n",
    "print(obj)"
   ]
  },
  {
   "cell_type": "markdown",
   "metadata": {},
   "source": [
    "##  Assign tuple\n",
    "\n",
    "|  tuple : | a tuple is a collection of data which is ordered and unchangable & allow duplicate members|each member has an index & the first member's index is 0   |\n",
    "| :- | -: | :-: |\n",
    "| (values)|creat a tuple  |  x = (1,3,'re')\n",
    "| tuple((values))  | creat tuple | x = list((1,4,'sd')) \n",
    "| x[index] | get value | x[4]  \n",
    "| len(tuple) | get length | len(x)\n"
   ]
  },
  {
   "cell_type": "code",
   "execution_count": 14,
   "metadata": {},
   "outputs": [
    {
     "name": "stdout",
     "output_type": "stream",
     "text": [
      "(1, 3, 3, 6, 1)\n"
     ]
    }
   ],
   "source": [
    "#assign\n",
    "x = (1,3,3,6,1)\n",
    "print(x)"
   ]
  },
  {
   "cell_type": "code",
   "execution_count": null,
   "metadata": {},
   "outputs": [],
   "source": [
    "#slice tuple\n",
    "y= x[5:7]\n",
    "print(y)"
   ]
  },
  {
   "cell_type": "code",
   "execution_count": null,
   "metadata": {},
   "outputs": [],
   "source": [
    "#make a list \n",
    "y = tuple((1,4,'sd'))\n",
    "print(y)"
   ]
  },
  {
   "cell_type": "code",
   "execution_count": null,
   "metadata": {},
   "outputs": [],
   "source": [
    "#get value\n",
    "print(x[2])"
   ]
  },
  {
   "cell_type": "code",
   "execution_count": null,
   "metadata": {},
   "outputs": [],
   "source": [
    "#get length\n",
    "print(len(x))\n"
   ]
  },
  {
   "cell_type": "markdown",
   "metadata": {},
   "source": [
    "##  Assign dictionary\n",
    "\n",
    "#### dictionary :  a dict is a collection of data which is unordered and indexed  & no duplicate members allow each value has a key \n",
    "\n",
    "\n",
    "##### Dictionaries and lists share the following characteristics:\n",
    "    Both are mutable.\n",
    "    Both are dynamic. They can grow and shrink as needed.\n",
    "    Both can be nested. A list can contain another list. A dictionary can contain another dictionary.\n",
    "    A dictionary can also contain a list, and vice versa.\n",
    "#### Dictionaries differ from lists primarily in how elements are accessed:\n",
    "    List elements are accessed by their position in the list, via indexing.\n",
    "    Dictionary elements are accessed via keys."
   ]
  },
  {
   "cell_type": "markdown",
   "metadata": {},
   "source": [
    "||||\n",
    "| :- | -: | :-: |\n",
    "| { } |creat a dict , nested dict |  x = {'in':1,'as':3,'aw':'re'} / x = dict([(1, 'Geeks'), (2, 'For')]) / Dict = {1: 'Geeks', 2: 'For', 3:{'A' : 'Welcome', 'B' : 'To', 'C' : 'Geeks'}} \n",
    "| dict(())  | creat dict | x = dict((in=1,as=3,aw='re')) \n",
    "| dict['key'] / x.get(key) | get value | x['in']  / x.get('in')\n",
    "| dict.items | get values | x.items\n",
    "| x.keys | get keys | x.keys  \n",
    "| len(dict) | get length of keys | len(x)\n",
    "| dict['key]='value' | add key & value |  x['in']= 324\n",
    "| dict.pop(index) / del(dict['key']) | remove value and key from position | x.pop(2) / del(x['age'])\n",
    "| cidt.clear() | clear dict |  x.clear()\n",
    "|dict.update({'new_key1':new_value1,'new_key2':new_value2}) |update multivalue of a dict|dict.update({'c':3,'d':4}) |"
   ]
  },
  {
   "cell_type": "code",
   "execution_count": null,
   "metadata": {},
   "outputs": [],
   "source": [
    "#create dict\n",
    "x = {'in':1,'as':3,'aw':'re'} "
   ]
  },
  {
   "cell_type": "code",
   "execution_count": null,
   "metadata": {},
   "outputs": [],
   "source": [
    "y = dict([(1, 'hello'), (2, 'world')])  "
   ]
  },
  {
   "cell_type": "code",
   "execution_count": null,
   "metadata": {},
   "outputs": [],
   "source": [
    "Dict = {1: 'hello', 2: 'world', 3:{'A' : 'Welcome', 'B' : 'To', 'C' : 'python'}}"
   ]
  },
  {
   "cell_type": "markdown",
   "metadata": {},
   "source": [
    "Building a Dictionary Incrementally"
   ]
  },
  {
   "cell_type": "code",
   "execution_count": null,
   "metadata": {},
   "outputs": [],
   "source": [
    "person = {}\n",
    "person['fname'] = 'mohamed'\n",
    "person['fname'] = 'ahmed'\n",
    "person['lname'] = 'yehia'\n",
    "person['age'] = 30\n",
    "person['preferred anime'] = ['black clover', 'hunter', 'attack on titans']\n",
    "print(person)"
   ]
  },
  {
   "cell_type": "code",
   "execution_count": null,
   "metadata": {},
   "outputs": [],
   "source": [
    "person['preferred anime'] = [{'rating':7, 'name':'black clover'},\n",
    "{'rating':9, 'name':'hunter'},\n",
    "{'rating':9, 'name':'attack on titans'}]"
   ]
  },
  {
   "cell_type": "code",
   "execution_count": null,
   "metadata": {},
   "outputs": [],
   "source": [
    "print(person)"
   ]
  },
  {
   "cell_type": "code",
   "execution_count": null,
   "metadata": {},
   "outputs": [],
   "source": [
    "person['preferred anime'][1][\"rating\"]"
   ]
  },
  {
   "cell_type": "code",
   "execution_count": null,
   "metadata": {},
   "outputs": [],
   "source": []
  },
  {
   "cell_type": "code",
   "execution_count": null,
   "metadata": {},
   "outputs": [],
   "source": [
    "#get value\n",
    "print(x['in'])\n",
    "print(x.get('in'))"
   ]
  },
  {
   "cell_type": "code",
   "execution_count": null,
   "metadata": {},
   "outputs": [],
   "source": [
    "#check if the key existed in dict\n",
    "\n",
    "d = {'name':'Bob', 'age':25, 'job':'dev', 'city':'New York', 'email':'bob@web.\n",
    ", → com'}\n",
    "if \"name\" in d:\n",
    "print(d['name'])\n",
    "if \"phone-number\" not in d:\n",
    "d[\"phone-number\"] = \"000000000000000000\"\n",
    "print(d)"
   ]
  },
  {
   "cell_type": "code",
   "execution_count": null,
   "metadata": {},
   "outputs": [],
   "source": [
    "#get all items \n",
    "print(x.items())"
   ]
  },
  {
   "cell_type": "code",
   "execution_count": null,
   "metadata": {},
   "outputs": [],
   "source": [
    "#get all keys\n",
    "print(x.keys())"
   ]
  },
  {
   "cell_type": "code",
   "execution_count": null,
   "metadata": {},
   "outputs": [],
   "source": [
    "#get numbers of keys\n",
    "print(len(x))"
   ]
  },
  {
   "cell_type": "code",
   "execution_count": null,
   "metadata": {},
   "outputs": [],
   "source": [
    "#add value to key\n",
    "x['in']= 324\n",
    "print(x)"
   ]
  },
  {
   "cell_type": "code",
   "execution_count": null,
   "metadata": {},
   "outputs": [],
   "source": [
    "#remove value and key\n",
    "print(x.pop('as') )\n",
    "\n",
    "del(x['in'])\n",
    "\n",
    "print(x)"
   ]
  },
  {
   "cell_type": "code",
   "execution_count": null,
   "metadata": {},
   "outputs": [],
   "source": [
    "#clear dict\n",
    "print(x.clear())\n"
   ]
  },
  {
   "cell_type": "code",
   "execution_count": null,
   "metadata": {},
   "outputs": [],
   "source": []
  },
  {
   "cell_type": "code",
   "execution_count": null,
   "metadata": {},
   "outputs": [],
   "source": [
    "#iterate over dict\n",
    "#method 1\n",
    "d = {'name':'Bob', 'age':25, 'job':'dev', 'city':'New York', 'email':'bob@web.\n",
    ", → com'}\n",
    "for ahmed in d: # key is just var name you can choose whatever you want\n",
    "print(f\"the {ahmed} pointed to the value {d[ahmed]}\")"
   ]
  },
  {
   "cell_type": "code",
   "execution_count": null,
   "metadata": {},
   "outputs": [],
   "source": [
    "#method 2\n",
    "for key, value in d.items():\n",
    "print(f\"the {key} pointed to the value {value}\")"
   ]
  },
  {
   "cell_type": "markdown",
   "metadata": {},
   "source": [
    "## count words"
   ]
  },
  {
   "cell_type": "code",
   "execution_count": null,
   "metadata": {},
   "outputs": [],
   "source": [
    "sample = '''A wonderful serenity has taken possession of my entire soul, like␣\n",
    ", → these sweet mornings of spring which I enjoy with my whole heart. I am␣\n",
    ", → alone, and feel the charm of existence in this spot, which was created for␣\n",
    ", → the bliss of souls like mine. I am so happy, my dear friend, so absorbed in␣\n",
    ", → the exquisite sense of mere tranquil existence, that I neglect my talents. I␣\n",
    ", → should be incapable of drawing a single stroke at the present moment; and␣\n",
    ", → yet I feel that I never was a greater artist than now. When, while the␣\n",
    ", → lovely valley teems with vapour around me, and the meridian sun strikes the␣\n",
    ", → upper surface of the impenetrable foliage of my trees, and but a few stray␣\n",
    ", → gleams steal into the inner sanctuary, I throw myself down among the tall␣\n",
    ", → grass by the trickling stream; and, as I lie close to the earth, a thousand␣\n",
    ", → unknown plants are noticed by me: when I hear the buzz of the little world␣\n",
    ", → among the stalks, and grow familiar with the countless indescribable forms␣\n",
    ", → of the insects and flies, then I feel the presence of the Almighty, who␣\n",
    ", → formed us in his own image'''\n"
   ]
  },
  {
   "cell_type": "code",
   "execution_count": null,
   "metadata": {},
   "outputs": [],
   "source": [
    "# put your code here\n",
    "s = sample#\"hello world hello\"\n",
    "words = s.split(\" \")\n",
    "result = {}\n",
    "for word in words:\n",
    "if word not in result:\n",
    "result[word] = 1\n",
    "else:\n",
    "result[word] = result[word] + 1\n",
    "print(result)"
   ]
  },
  {
   "cell_type": "markdown",
   "metadata": {},
   "source": [
    "# JSON Data in Python\n",
    "\n",
    "    is JavaScript Object Notation ,  and is used to store and transfer the data\n",
    "    \n",
    "    \n",
    "#### Read, Write and Parse JSON using Python\n",
    "    \n",
    "    Python read JSON file\n",
    "        json.load(file_object)\n",
    "        \n",
    "    Python Writing JSON to a file\n",
    "        json.dump(dict, file_pointer)\n",
    "\n",
    "    "
   ]
  },
  {
   "cell_type": "code",
   "execution_count": null,
   "metadata": {},
   "outputs": [],
   "source": [
    "import json \n",
    "   \n",
    "# Opening JSON file \n",
    "f = open('data.json',) \n",
    "   \n",
    "# returns JSON object as  \n",
    "# a dictionary \n",
    "data = json.load(f) \n",
    "   \n",
    "# Iterating through the json \n",
    "# list \n",
    "for i in data['emp_details']: \n",
    "    print(i) \n",
    "   \n",
    "# Closing file \n",
    "f.close() \n"
   ]
  },
  {
   "cell_type": "code",
   "execution_count": null,
   "metadata": {},
   "outputs": [],
   "source": [
    "# Data to be written \n",
    "dictionary ={ \n",
    "    \"name\" : \"sathiyajith\", \n",
    "    \"rollno\" : 56, \n",
    "    \"cgpa\" : 8.6, \n",
    "    \"phonenumber\" : \"9976770500\"\n",
    "} \n",
    "   \n",
    "with open(\"data.json\", \"w\") as outfile: \n",
    "    json.dump(dictionary, outfile) "
   ]
  },
  {
   "cell_type": "code",
   "execution_count": null,
   "metadata": {},
   "outputs": [],
   "source": [
    "# JSON data: \n",
    "x =  '{ \"organization\":\"GeeksForGeeks\", \"city\":\"Noida\", \"country\":\"India\"}' \n",
    "  \n",
    "# python object to be appended \n",
    "y = {\"pin\":110096} \n",
    "  \n",
    "# parsing JSON string: \n",
    "z = json.loads(x) \n",
    "   \n",
    "# appending the data \n",
    "z.update(y) \n",
    "  \n",
    "# the result is a JSON string: \n",
    "print(json.dumps(z))  "
   ]
  },
  {
   "cell_type": "markdown",
   "metadata": {},
   "source": [
    "# PrettyPrint JSON Data\n",
    "\n",
    "#### JSON file without Pretty Printing it:\n",
    "    \n",
    "    {\"id\": 1, \"name\": \"Jessa Duggar\", \"class\": 9, \"attendance\": 75, \"subjects\": [\"English\", \"Geometry\"], \"email\": \n",
    "    \"jessa@pynative.com\"}\n",
    "\n",
    "#### Pretty-Printed JSON data into a file with indent=0\n",
    "\n",
    "    {\n",
    "    \"id\": 1,\n",
    "    \"name\": \"Jessa Duggar\",\n",
    "    \"class\": 9,\n",
    "    \"attendance\": 75,\n",
    "    \"subjects\": [\n",
    "    \"English\",\n",
    "    \"Geometry\"\n",
    "    ],\n",
    "    \"email\": \"jessa@pynative.com\"\n",
    "    }\n",
    "    \n",
    "#### Pretty-Printed JSON data into a file with indent=4\n",
    "    {\n",
    "        \"id\": 1,\n",
    "        \"name\": \"Jessa Duggar\",\n",
    "        \"class\": 9,\n",
    "        \"attendance\": 75,\n",
    "        \"subjects\": [\n",
    "            \"English\",\n",
    "            \"Geometry\"\n",
    "        ],\n",
    "        \"email\": \"jessa@pynative.com\"\n",
    "    }\n",
    "\n"
   ]
  },
  {
   "cell_type": "code",
   "execution_count": null,
   "metadata": {},
   "outputs": [],
   "source": [
    "import json\n",
    "\n",
    "print(\"Writing Indented and Pretty-printed JSON formatted data into a file\")\n",
    "\n",
    "student = {\n",
    "    \"id\": 1,\n",
    "    \"name\": \"Jessa Duggar\",\n",
    "    \"class\": 9,\n",
    "    \"attendance\": 75,\n",
    "    \"subjects\": [\"English\", \"Geometry\"],\n",
    "    \"email\": \"jessa@pynative.com\"\n",
    "}\n",
    "\n",
    "with open(\"studentWithoutPrettyPrint.json\", \"w\") as write_file:\n",
    "    json.dump(student, write_file)\n",
    "print(\"Done writing JSON data into file without Pretty Printing it\")\n",
    "\n",
    "with open(\"studentWithPrettyPrint2.json\", \"w\") as write_file:\n",
    "    json.dump(student, write_file, indent=0)\n",
    "print(\"Done writing PrettyPrinted JSON data into file with indent=0\")\n",
    "\n",
    "with open(\"studentWithPrettyPrint3.json\", \"w\") as write_file:\n",
    "    json.dump(student, write_file, indent=4, sort_keys=True)\n",
    "print(\"Done writing Sorted and PrettyPrinted JSON data into file\")"
   ]
  },
  {
   "cell_type": "code",
   "execution_count": null,
   "metadata": {},
   "outputs": [],
   "source": [
    "import requests\n",
    "import json\n",
    "api_key = \"204c762825b47ea8dd6859fb9e5b344b\"\n",
    "base_url = \"http://api.openweathermap.org/data/2.5/weather?\"\n",
    "complete_url = base_url + \"appid=\" + api_key + \"&q=cairo\"\n",
    "response = requests.get(complete_url)\n",
    "received_dict = response.json()\n",
    "# the above code is not important\n",
    "print(received_dict)"
   ]
  },
  {
   "cell_type": "markdown",
   "metadata": {},
   "source": [
    "# Function   \n",
    "    def function_name( inputs ):    #A function is a set of statements that take inputs, do some specific computation and produces output.\n",
    "    \n",
    "    \n",
    "####  pass by value\n",
    "\n",
    "    a value will be passed to function if it was from the following data type ( string , int , float)\n",
    "\n",
    "\n",
    "#### Pass by Reference \n",
    "\n",
    "    a refrence of function unput will be passed to function if it was from the following data type ( list  , dict ,.... etc)\n",
    "          ex : passig a list to fuction to modify an element \n",
    "                \n",
    "                if  a list or a dict wanted to be passed by value it can be done by (list.copy(), dict.copy())\n",
    "       \n",
    "\n",
    "#### *args  \n",
    "     pass a variable number of arguments to a function. It is used to pass a non-key worded, variable-length argument list. \n",
    "\n",
    "\n",
    "#### **kwargs\n",
    "    pass a keyworded, variable-length arguments list.\n",
    "\n",
    "\n",
    "#### yield\n",
    "    a yield statement suspends function’s execution and sends a value back to the caller, but retains enough \n",
    "    state to enable function to resume where it is left off."
   ]
  },
  {
   "cell_type": "code",
   "execution_count": null,
   "metadata": {},
   "outputs": [],
   "source": [
    "# pass by value\n",
    "def myFun(x): \n",
    "\n",
    "   x = 20\n",
    "\n",
    "lst = 10  \n",
    "myFun(lst)\n",
    "print(lst)  \n"
   ]
  },
  {
   "cell_type": "code",
   "execution_count": null,
   "metadata": {},
   "outputs": [],
   "source": [
    "# Here x is a new reference to same list lst \n",
    "def myFun(x): \n",
    "   x[0] = 20\n",
    "  \n",
    "# Driver Code (Note that lst is modified \n",
    "# after function call. \n",
    "lst = [10, 11, 12, 13, 14, 15]  \n",
    "myFun(lst); \n",
    "print(lst) "
   ]
  },
  {
   "cell_type": "code",
   "execution_count": null,
   "metadata": {},
   "outputs": [],
   "source": [
    "#pass by refrence\n",
    "def myFun_2(x): \n",
    "   x = [20, 30, 40] \n",
    "  \n",
    "# Driver Code (Note that lst is modified \n",
    "# after function call. \n",
    "lst = [10, 11, 12, 13, 14, 15]  \n",
    "myFun_2(lst)\n",
    "print(lst) "
   ]
  },
  {
   "cell_type": "code",
   "execution_count": null,
   "metadata": {},
   "outputs": [],
   "source": [
    "# how x is passed insid a function by refrence \n",
    "def myFun_3(x): \n",
    "   x[4] = 20\n",
    "   print(id(x))\n",
    "   x.clear()\n",
    "   x.extend( [20, 30, 40,23,54,74,12] )\n",
    "   print(id(x))\n",
    "   x = [50,45,32]\n",
    "   print(id(x)) \n",
    "# Driver Code (Note that lst is modified \n",
    "# after function call. \n",
    "lst = [10, 11, 12, 13, 14, 15]\n",
    "print(id(lst))  \n",
    "myFun_3(lst) \n",
    "print(lst)"
   ]
  },
  {
   "cell_type": "code",
   "execution_count": null,
   "metadata": {},
   "outputs": [],
   "source": [
    "# *args\n",
    "def myFun_3(arg1, *argv):\n",
    "    print (\"First argument :\", arg1)\n",
    "    for arg in argv:\n",
    "        print(\"Next argument through *argv :\", arg)\n",
    " \n",
    "myFun_3('Hello', 'Welcome', 'to', 'GeeksforGeeks')"
   ]
  },
  {
   "cell_type": "code",
   "execution_count": null,
   "metadata": {},
   "outputs": [],
   "source": [
    "#**kwargs\n",
    "def myFun_4(**kwargs): \n",
    "    for key, value in kwargs.items():\n",
    "        print (\"%s == %s\" %(key, value))\n",
    " \n",
    "# Driver code\n",
    "myFun_4(first ='Geeks', mid ='for', last='Geeks')    \n"
   ]
  },
  {
   "cell_type": "code",
   "execution_count": null,
   "metadata": {},
   "outputs": [],
   "source": [
    "#**Kwargs and *args\n",
    "def myFun_5(*args,**kwargs):\n",
    "    print(\"args: \", args)\n",
    "    print(\"kwargs: \", kwargs)\n",
    " \n",
    " \n",
    "# Now we can use both *args ,**kwargs to pass arguments to this function :\n",
    "myFun_5('geeks','for','geeks',first=\"Geeks\",mid=\"for\",last=\"Geeks\")\n"
   ]
  },
  {
   "cell_type": "code",
   "execution_count": null,
   "metadata": {},
   "outputs": [],
   "source": [
    "#Yield\n",
    "def nextSquare(): \n",
    "    i = 1   \n",
    "    # An Infinite loop to generate squares  \n",
    "    while True: \n",
    "        yield i*i                 \n",
    "        i += 1  # Next execution resumes  \n",
    "                # from this point      \n",
    "  \n",
    "# Driver code to test above generator  \n",
    "# function \n",
    "for num in nextSquare(): \n",
    "    if num > 100: \n",
    "         break    \n",
    "    print(num)"
   ]
  },
  {
   "cell_type": "markdown",
   "metadata": {},
   "source": [
    "# First Class functions in Python\n",
    "\n",
    "\n",
    "#### Functions are objects\n",
    "    we are assigning function to a variable. This assignment doesn’t call the function. It takes the function object referenced by shout and creates a second name pointing to it,\n",
    "\n",
    "####  Functions can be passed as arguments to other functions\n",
    "    unctions are objects so we can pass them as arguments to other functions\n",
    "\n",
    "#### Functions can return another function\n",
    "     functions are objects so we can return a function from another function"
   ]
  },
  {
   "cell_type": "code",
   "execution_count": 9,
   "metadata": {},
   "outputs": [
    {
     "name": "stdout",
     "output_type": "stream",
     "text": [
      "HELLO\n",
      "HELLO\n",
      "######################################################################################################## \n",
      "\n",
      "HI, I AM CREATED BY A FUNCTION PASSED AS AN ARGUMENT.\n",
      "hi, i am created by a function passed as an argument.\n",
      "######################################################################################################## \n",
      "\n",
      "25\n"
     ]
    }
   ],
   "source": [
    "# can be treated as objects \n",
    "def shout(text): \n",
    "    return text.upper() \n",
    "  \n",
    "print (shout('Hello') )\n",
    "  \n",
    "yell = shout \n",
    "  \n",
    "print (yell('Hello') )"
   ]
  },
  {
   "cell_type": "code",
   "execution_count": null,
   "metadata": {},
   "outputs": [],
   "source": [
    "# can be passed as arguments to other functions \n",
    "def shout_2(text): \n",
    "    return text.upper() \n",
    "  \n",
    "def whisper_2(text): \n",
    "    return text.lower() \n",
    "  \n",
    "def greet_2(func): \n",
    "    # storing the function in a variable \n",
    "    greeting = func(\"Hi, I am created by a function passed as an argument.\") \n",
    "    print (greeting)  \n",
    "  \n",
    "greet_2(shout_2) \n",
    "greet_2(whisper_2)\n",
    "\n"
   ]
  },
  {
   "cell_type": "code",
   "execution_count": null,
   "metadata": {},
   "outputs": [],
   "source": [
    "# Functions can return another function \n",
    "\n",
    "def create_adder(x): \n",
    "    def adder(y): \n",
    "        return x+y \n",
    "  \n",
    "    return adder \n",
    "  \n",
    "add_15 = create_adder(15) \n",
    "  \n",
    "print( add_15(10) )"
   ]
  },
  {
   "cell_type": "markdown",
   "metadata": {},
   "source": [
    "# Global Variable\n",
    "     the one that are defined and declared outside a function and we need to use them inside a function.\n",
    "     \n",
    "     \n",
    "#### Use of global keyword:\n",
    "    To access a global variable inside a function there is no need to use global keyword.\n",
    "\n",
    "\n",
    "#### Without global keyword\n",
    "     output will conduct an error because we are trying to assign a value to a variable in an outer scope. \n",
    "\n",
    "#### With global keyword\n"
   ]
  },
  {
   "cell_type": "code",
   "execution_count": 10,
   "metadata": {},
   "outputs": [
    {
     "name": "stdout",
     "output_type": "stream",
     "text": [
      "global :  1\n",
      "Inside f() :  1\n",
      "global :  1\n",
      "Inside g() :  2\n",
      "global :  1\n",
      "Inside h() :  3\n",
      "global :  3\n",
      "######################################################################################################## \n",
      "\n",
      "Value of x inside a function : 20\n",
      "Value of x inside a function : 30\n",
      "Value of x outside a function : 20\n",
      "Value of x outside a function : 30\n"
     ]
    }
   ],
   "source": [
    "a = 1\n",
    "  \n",
    "# Uses global because there is no local 'a' \n",
    "def f(): \n",
    "    print('Inside f() : ', a) \n",
    "  \n",
    "# Variable 'a' is redefined as a local \n",
    "def g():     \n",
    "    a = 2\n",
    "    print('Inside g() : ', a) \n",
    "  \n",
    "# Uses global keyword to modify global 'a' \n",
    "def h():     \n",
    "    global a \n",
    "    a = 3\n",
    "    print('Inside h() : ', a) \n",
    "  \n",
    "# Global scope \n",
    "print('global : ',a) \n",
    "f() \n",
    "print('global : ',a) \n",
    "g() \n",
    "print('global : ',a) \n",
    "h() \n",
    "print('global : ',a) "
   ]
  },
  {
   "cell_type": "code",
   "execution_count": null,
   "metadata": {},
   "outputs": [],
   "source": [
    "# value inside a function \n",
    "\n",
    "x = 15\n",
    "y = 30 \n",
    "def change(): \n",
    "\n",
    "    # using a global keyword \n",
    "    global x \n",
    "\n",
    "    # increment value of a by 5 \n",
    "    x = x + 5 \n",
    "    ####  y = y+10 (ucommenting this line will result an error as  y not defined inside a function as global)\n",
    "    print(\"Value of x inside a function :\", x) \n",
    "    print(\"Value of x inside a function :\", y) \n",
    "\n",
    "change() \n",
    "print(\"Value of x outside a function :\", x) \n",
    "print(\"Value of x outside a function :\", y) \n"
   ]
  },
  {
   "cell_type": "markdown",
   "metadata": {},
   "source": [
    "## Exercise 1\n",
    "\n",
    "\n",
    "#### Code 1: Create a config.py file to store global variables:\n",
    "\n",
    "    x = 0\n",
    "    y = 0\n",
    "    z =\"none\"\n",
    "\n",
    "#### Code 2: Create a modify.py file to modify global variables:\n",
    "\n",
    "    import config \n",
    "    config.x = 1\n",
    "    config.y = 2\n",
    "    config.z =\"geeksforgeeks\"\n",
    "\n",
    "#### Code 3: Create a main.py file to modify global variables:\n",
    "\n",
    "\n",
    "    import config \n",
    "    import modify \n",
    "    print(config.x) \n",
    "    print(config.y) \n",
    "    print(config.z) "
   ]
  },
  {
   "cell_type": "code",
   "execution_count": 12,
   "metadata": {},
   "outputs": [
    {
     "name": "stdout",
     "output_type": "stream",
     "text": [
      "outside if 10\n",
      "outside if 9\n",
      "outside if 8\n",
      "outside if 7\n",
      "outside if 6\n",
      "outside if 5\n",
      "outside if 4\n",
      "outside if 3\n",
      "outside if 2\n",
      "outside if 1\n",
      "outside if 0\n",
      "55\n"
     ]
    }
   ],
   "source": [
    "# how to use if and function as a loop \n",
    "\n",
    "def calculateSum(num):\n",
    "    print(\"outside if\" , num)\n",
    "    if num:\n",
    "        return num + calculateSum(num-1)\n",
    "        print(\"insid if\",num)\n",
    "    else:\n",
    "        return 0\n",
    "\n",
    "res = calculateSum(10)\n",
    "print(res)"
   ]
  },
  {
   "cell_type": "code",
   "execution_count": 13,
   "metadata": {},
   "outputs": [
    {
     "ename": "NameError",
     "evalue": "name 'sample_str' is not defined",
     "output_type": "error",
     "traceback": [
      "\u001b[0;31m---------------------------------------------------------------------------\u001b[0m",
      "\u001b[0;31mNameError\u001b[0m                                 Traceback (most recent call last)",
      "\u001b[0;32m<ipython-input-13-76db9e0fffca>\u001b[0m in \u001b[0;36m<module>\u001b[0;34m\u001b[0m\n\u001b[1;32m      1\u001b[0m \u001b[0;31m# two ways to iterate over a string\u001b[0m\u001b[0;34m\u001b[0m\u001b[0;34m\u001b[0m\u001b[0;34m\u001b[0m\u001b[0m\n\u001b[1;32m      2\u001b[0m \u001b[0;34m\u001b[0m\u001b[0m\n\u001b[0;32m----> 3\u001b[0;31m \u001b[0;32mfor\u001b[0m \u001b[0mchar\u001b[0m \u001b[0;32min\u001b[0m \u001b[0msample_str\u001b[0m\u001b[0;34m:\u001b[0m \u001b[0;31m# char is gust any variable name you can use i\u001b[0m\u001b[0;34m\u001b[0m\u001b[0;34m\u001b[0m\u001b[0m\n\u001b[0m\u001b[1;32m      4\u001b[0m     \u001b[0mprint\u001b[0m\u001b[0;34m(\u001b[0m\u001b[0mchar\u001b[0m\u001b[0;34m)\u001b[0m\u001b[0;34m\u001b[0m\u001b[0;34m\u001b[0m\u001b[0m\n\u001b[1;32m      5\u001b[0m \u001b[0;34m\u001b[0m\u001b[0m\n",
      "\u001b[0;31mNameError\u001b[0m: name 'sample_str' is not defined"
     ]
    }
   ],
   "source": [
    "# two ways to iterate over a string\n",
    "\n",
    "for char in sample_str: # char is gust any variable name you can use i\n",
    "    print(char)\n",
    "\n",
    "print(\"***************************\")\n",
    "for x in range(len(sample_str)):\n",
    "    print(sample_str[x])"
   ]
  },
  {
   "cell_type": "code",
   "execution_count": null,
   "metadata": {},
   "outputs": [],
   "source": []
  }
 ],
 "metadata": {
  "kernelspec": {
   "display_name": "Python 3",
   "language": "python",
   "name": "python3"
  },
  "language_info": {
   "codemirror_mode": {
    "name": "ipython",
    "version": 3
   },
   "file_extension": ".py",
   "mimetype": "text/x-python",
   "name": "python",
   "nbconvert_exporter": "python",
   "pygments_lexer": "ipython3",
   "version": "3.8.10"
  }
 },
 "nbformat": 4,
 "nbformat_minor": 4
}
